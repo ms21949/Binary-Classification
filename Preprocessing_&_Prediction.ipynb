{
  "cells": [
    {
      "cell_type": "markdown",
      "metadata": {
        "id": "sDQ54HfP1Fig"
      },
      "source": [
        "## **Importing Packages**"
      ]
    },
    {
      "cell_type": "code",
      "execution_count": 1,
      "metadata": {
        "colab": {
          "base_uri": "https://localhost:8080/",
          "height": 382
        },
        "id": "LRdWxRkOz7tn",
        "outputId": "d4b180e6-c979-4ea8-f353-ba453ddcaba5"
      },
      "outputs": [
        {
          "output_type": "execute_result",
          "data": {
            "text/plain": [
              "       destination  passenger weather  temperature  time  \\\n",
              "0  No Urgent Place      Alone   Sunny           55   2PM   \n",
              "1  No Urgent Place  Friend(s)   Sunny           80  10AM   \n",
              "2  No Urgent Place  Friend(s)   Sunny           80  10AM   \n",
              "3  No Urgent Place  Friend(s)   Sunny           80   2PM   \n",
              "4  No Urgent Place  Friend(s)   Sunny           80   2PM   \n",
              "\n",
              "                  coupon expiration  gender age      maritalStatus  ...  \\\n",
              "0        Restaurant(<20)         1d  Female  21  Unmarried partner  ...   \n",
              "1           Coffee House         2h  Female  21  Unmarried partner  ...   \n",
              "2  Carry out & Take away         2h  Female  21  Unmarried partner  ...   \n",
              "3           Coffee House         2h  Female  21  Unmarried partner  ...   \n",
              "4           Coffee House         1d  Female  21  Unmarried partner  ...   \n",
              "\n",
              "   CoffeeHouse CarryAway RestaurantLessThan20 Restaurant20To50  \\\n",
              "0        never       NaN                  4~8              1~3   \n",
              "1        never       NaN                  4~8              1~3   \n",
              "2        never       NaN                  4~8              1~3   \n",
              "3        never       NaN                  4~8              1~3   \n",
              "4        never       NaN                  4~8              1~3   \n",
              "\n",
              "  toCoupon_GEQ5min toCoupon_GEQ15min toCoupon_GEQ25min direction_same  \\\n",
              "0                1                 0                 0              0   \n",
              "1                1                 0                 0              0   \n",
              "2                1                 1                 0              0   \n",
              "3                1                 1                 0              0   \n",
              "4                1                 1                 0              0   \n",
              "\n",
              "  direction_opp  Y  \n",
              "0             1  1  \n",
              "1             1  0  \n",
              "2             1  1  \n",
              "3             1  0  \n",
              "4             1  0  \n",
              "\n",
              "[5 rows x 26 columns]"
            ],
            "text/html": [
              "\n",
              "  <div id=\"df-4ea480c4-0612-4627-834a-3f5572907b32\">\n",
              "    <div class=\"colab-df-container\">\n",
              "      <div>\n",
              "<style scoped>\n",
              "    .dataframe tbody tr th:only-of-type {\n",
              "        vertical-align: middle;\n",
              "    }\n",
              "\n",
              "    .dataframe tbody tr th {\n",
              "        vertical-align: top;\n",
              "    }\n",
              "\n",
              "    .dataframe thead th {\n",
              "        text-align: right;\n",
              "    }\n",
              "</style>\n",
              "<table border=\"1\" class=\"dataframe\">\n",
              "  <thead>\n",
              "    <tr style=\"text-align: right;\">\n",
              "      <th></th>\n",
              "      <th>destination</th>\n",
              "      <th>passenger</th>\n",
              "      <th>weather</th>\n",
              "      <th>temperature</th>\n",
              "      <th>time</th>\n",
              "      <th>coupon</th>\n",
              "      <th>expiration</th>\n",
              "      <th>gender</th>\n",
              "      <th>age</th>\n",
              "      <th>maritalStatus</th>\n",
              "      <th>...</th>\n",
              "      <th>CoffeeHouse</th>\n",
              "      <th>CarryAway</th>\n",
              "      <th>RestaurantLessThan20</th>\n",
              "      <th>Restaurant20To50</th>\n",
              "      <th>toCoupon_GEQ5min</th>\n",
              "      <th>toCoupon_GEQ15min</th>\n",
              "      <th>toCoupon_GEQ25min</th>\n",
              "      <th>direction_same</th>\n",
              "      <th>direction_opp</th>\n",
              "      <th>Y</th>\n",
              "    </tr>\n",
              "  </thead>\n",
              "  <tbody>\n",
              "    <tr>\n",
              "      <th>0</th>\n",
              "      <td>No Urgent Place</td>\n",
              "      <td>Alone</td>\n",
              "      <td>Sunny</td>\n",
              "      <td>55</td>\n",
              "      <td>2PM</td>\n",
              "      <td>Restaurant(&lt;20)</td>\n",
              "      <td>1d</td>\n",
              "      <td>Female</td>\n",
              "      <td>21</td>\n",
              "      <td>Unmarried partner</td>\n",
              "      <td>...</td>\n",
              "      <td>never</td>\n",
              "      <td>NaN</td>\n",
              "      <td>4~8</td>\n",
              "      <td>1~3</td>\n",
              "      <td>1</td>\n",
              "      <td>0</td>\n",
              "      <td>0</td>\n",
              "      <td>0</td>\n",
              "      <td>1</td>\n",
              "      <td>1</td>\n",
              "    </tr>\n",
              "    <tr>\n",
              "      <th>1</th>\n",
              "      <td>No Urgent Place</td>\n",
              "      <td>Friend(s)</td>\n",
              "      <td>Sunny</td>\n",
              "      <td>80</td>\n",
              "      <td>10AM</td>\n",
              "      <td>Coffee House</td>\n",
              "      <td>2h</td>\n",
              "      <td>Female</td>\n",
              "      <td>21</td>\n",
              "      <td>Unmarried partner</td>\n",
              "      <td>...</td>\n",
              "      <td>never</td>\n",
              "      <td>NaN</td>\n",
              "      <td>4~8</td>\n",
              "      <td>1~3</td>\n",
              "      <td>1</td>\n",
              "      <td>0</td>\n",
              "      <td>0</td>\n",
              "      <td>0</td>\n",
              "      <td>1</td>\n",
              "      <td>0</td>\n",
              "    </tr>\n",
              "    <tr>\n",
              "      <th>2</th>\n",
              "      <td>No Urgent Place</td>\n",
              "      <td>Friend(s)</td>\n",
              "      <td>Sunny</td>\n",
              "      <td>80</td>\n",
              "      <td>10AM</td>\n",
              "      <td>Carry out &amp; Take away</td>\n",
              "      <td>2h</td>\n",
              "      <td>Female</td>\n",
              "      <td>21</td>\n",
              "      <td>Unmarried partner</td>\n",
              "      <td>...</td>\n",
              "      <td>never</td>\n",
              "      <td>NaN</td>\n",
              "      <td>4~8</td>\n",
              "      <td>1~3</td>\n",
              "      <td>1</td>\n",
              "      <td>1</td>\n",
              "      <td>0</td>\n",
              "      <td>0</td>\n",
              "      <td>1</td>\n",
              "      <td>1</td>\n",
              "    </tr>\n",
              "    <tr>\n",
              "      <th>3</th>\n",
              "      <td>No Urgent Place</td>\n",
              "      <td>Friend(s)</td>\n",
              "      <td>Sunny</td>\n",
              "      <td>80</td>\n",
              "      <td>2PM</td>\n",
              "      <td>Coffee House</td>\n",
              "      <td>2h</td>\n",
              "      <td>Female</td>\n",
              "      <td>21</td>\n",
              "      <td>Unmarried partner</td>\n",
              "      <td>...</td>\n",
              "      <td>never</td>\n",
              "      <td>NaN</td>\n",
              "      <td>4~8</td>\n",
              "      <td>1~3</td>\n",
              "      <td>1</td>\n",
              "      <td>1</td>\n",
              "      <td>0</td>\n",
              "      <td>0</td>\n",
              "      <td>1</td>\n",
              "      <td>0</td>\n",
              "    </tr>\n",
              "    <tr>\n",
              "      <th>4</th>\n",
              "      <td>No Urgent Place</td>\n",
              "      <td>Friend(s)</td>\n",
              "      <td>Sunny</td>\n",
              "      <td>80</td>\n",
              "      <td>2PM</td>\n",
              "      <td>Coffee House</td>\n",
              "      <td>1d</td>\n",
              "      <td>Female</td>\n",
              "      <td>21</td>\n",
              "      <td>Unmarried partner</td>\n",
              "      <td>...</td>\n",
              "      <td>never</td>\n",
              "      <td>NaN</td>\n",
              "      <td>4~8</td>\n",
              "      <td>1~3</td>\n",
              "      <td>1</td>\n",
              "      <td>1</td>\n",
              "      <td>0</td>\n",
              "      <td>0</td>\n",
              "      <td>1</td>\n",
              "      <td>0</td>\n",
              "    </tr>\n",
              "  </tbody>\n",
              "</table>\n",
              "<p>5 rows × 26 columns</p>\n",
              "</div>\n",
              "      <button class=\"colab-df-convert\" onclick=\"convertToInteractive('df-4ea480c4-0612-4627-834a-3f5572907b32')\"\n",
              "              title=\"Convert this dataframe to an interactive table.\"\n",
              "              style=\"display:none;\">\n",
              "        \n",
              "  <svg xmlns=\"http://www.w3.org/2000/svg\" height=\"24px\"viewBox=\"0 0 24 24\"\n",
              "       width=\"24px\">\n",
              "    <path d=\"M0 0h24v24H0V0z\" fill=\"none\"/>\n",
              "    <path d=\"M18.56 5.44l.94 2.06.94-2.06 2.06-.94-2.06-.94-.94-2.06-.94 2.06-2.06.94zm-11 1L8.5 8.5l.94-2.06 2.06-.94-2.06-.94L8.5 2.5l-.94 2.06-2.06.94zm10 10l.94 2.06.94-2.06 2.06-.94-2.06-.94-.94-2.06-.94 2.06-2.06.94z\"/><path d=\"M17.41 7.96l-1.37-1.37c-.4-.4-.92-.59-1.43-.59-.52 0-1.04.2-1.43.59L10.3 9.45l-7.72 7.72c-.78.78-.78 2.05 0 2.83L4 21.41c.39.39.9.59 1.41.59.51 0 1.02-.2 1.41-.59l7.78-7.78 2.81-2.81c.8-.78.8-2.07 0-2.86zM5.41 20L4 18.59l7.72-7.72 1.47 1.35L5.41 20z\"/>\n",
              "  </svg>\n",
              "      </button>\n",
              "      \n",
              "  <style>\n",
              "    .colab-df-container {\n",
              "      display:flex;\n",
              "      flex-wrap:wrap;\n",
              "      gap: 12px;\n",
              "    }\n",
              "\n",
              "    .colab-df-convert {\n",
              "      background-color: #E8F0FE;\n",
              "      border: none;\n",
              "      border-radius: 50%;\n",
              "      cursor: pointer;\n",
              "      display: none;\n",
              "      fill: #1967D2;\n",
              "      height: 32px;\n",
              "      padding: 0 0 0 0;\n",
              "      width: 32px;\n",
              "    }\n",
              "\n",
              "    .colab-df-convert:hover {\n",
              "      background-color: #E2EBFA;\n",
              "      box-shadow: 0px 1px 2px rgba(60, 64, 67, 0.3), 0px 1px 3px 1px rgba(60, 64, 67, 0.15);\n",
              "      fill: #174EA6;\n",
              "    }\n",
              "\n",
              "    [theme=dark] .colab-df-convert {\n",
              "      background-color: #3B4455;\n",
              "      fill: #D2E3FC;\n",
              "    }\n",
              "\n",
              "    [theme=dark] .colab-df-convert:hover {\n",
              "      background-color: #434B5C;\n",
              "      box-shadow: 0px 1px 3px 1px rgba(0, 0, 0, 0.15);\n",
              "      filter: drop-shadow(0px 1px 2px rgba(0, 0, 0, 0.3));\n",
              "      fill: #FFFFFF;\n",
              "    }\n",
              "  </style>\n",
              "\n",
              "      <script>\n",
              "        const buttonEl =\n",
              "          document.querySelector('#df-4ea480c4-0612-4627-834a-3f5572907b32 button.colab-df-convert');\n",
              "        buttonEl.style.display =\n",
              "          google.colab.kernel.accessAllowed ? 'block' : 'none';\n",
              "\n",
              "        async function convertToInteractive(key) {\n",
              "          const element = document.querySelector('#df-4ea480c4-0612-4627-834a-3f5572907b32');\n",
              "          const dataTable =\n",
              "            await google.colab.kernel.invokeFunction('convertToInteractive',\n",
              "                                                     [key], {});\n",
              "          if (!dataTable) return;\n",
              "\n",
              "          const docLinkHtml = 'Like what you see? Visit the ' +\n",
              "            '<a target=\"_blank\" href=https://colab.research.google.com/notebooks/data_table.ipynb>data table notebook</a>'\n",
              "            + ' to learn more about interactive tables.';\n",
              "          element.innerHTML = '';\n",
              "          dataTable['output_type'] = 'display_data';\n",
              "          await google.colab.output.renderOutput(dataTable, element);\n",
              "          const docLink = document.createElement('div');\n",
              "          docLink.innerHTML = docLinkHtml;\n",
              "          element.appendChild(docLink);\n",
              "        }\n",
              "      </script>\n",
              "    </div>\n",
              "  </div>\n",
              "  "
            ]
          },
          "metadata": {},
          "execution_count": 1
        }
      ],
      "source": [
        "import pandas as pd\n",
        "import numpy as np\n",
        "\n",
        "from sklearn.preprocessing import LabelEncoder\n",
        "\n",
        "df = pd.read_csv('in-vehicle-coupon-recommendation.csv')\n",
        "df.head()"
      ]
    },
    {
      "cell_type": "code",
      "execution_count": 2,
      "metadata": {
        "colab": {
          "base_uri": "https://localhost:8080/"
        },
        "id": "5s12ZhK90HCs",
        "outputId": "3ef8dd2a-bdbb-4f00-e107-49d9d9466a89"
      },
      "outputs": [
        {
          "output_type": "stream",
          "name": "stdout",
          "text": [
            "<class 'pandas.core.frame.DataFrame'>\n",
            "RangeIndex: 12684 entries, 0 to 12683\n",
            "Data columns (total 26 columns):\n",
            " #   Column                Non-Null Count  Dtype \n",
            "---  ------                --------------  ----- \n",
            " 0   destination           12684 non-null  object\n",
            " 1   passenger             12684 non-null  object\n",
            " 2   weather               12684 non-null  object\n",
            " 3   temperature           12684 non-null  int64 \n",
            " 4   time                  12684 non-null  object\n",
            " 5   coupon                12684 non-null  object\n",
            " 6   expiration            12684 non-null  object\n",
            " 7   gender                12684 non-null  object\n",
            " 8   age                   12684 non-null  object\n",
            " 9   maritalStatus         12684 non-null  object\n",
            " 10  has_children          12684 non-null  int64 \n",
            " 11  education             12684 non-null  object\n",
            " 12  occupation            12684 non-null  object\n",
            " 13  income                12684 non-null  object\n",
            " 14  car                   108 non-null    object\n",
            " 15  Bar                   12577 non-null  object\n",
            " 16  CoffeeHouse           12467 non-null  object\n",
            " 17  CarryAway             12533 non-null  object\n",
            " 18  RestaurantLessThan20  12554 non-null  object\n",
            " 19  Restaurant20To50      12495 non-null  object\n",
            " 20  toCoupon_GEQ5min      12684 non-null  int64 \n",
            " 21  toCoupon_GEQ15min     12684 non-null  int64 \n",
            " 22  toCoupon_GEQ25min     12684 non-null  int64 \n",
            " 23  direction_same        12684 non-null  int64 \n",
            " 24  direction_opp         12684 non-null  int64 \n",
            " 25  Y                     12684 non-null  int64 \n",
            "dtypes: int64(8), object(18)\n",
            "memory usage: 2.5+ MB\n"
          ]
        }
      ],
      "source": [
        "df.info()"
      ]
    },
    {
      "cell_type": "code",
      "execution_count": 3,
      "metadata": {
        "colab": {
          "base_uri": "https://localhost:8080/"
        },
        "id": "wrVV0E4O0SG-",
        "outputId": "8e64f9e5-cb30-48f4-b6ec-128adca2ba76"
      },
      "outputs": [
        {
          "output_type": "execute_result",
          "data": {
            "text/plain": [
              "destination              3\n",
              "passenger                4\n",
              "weather                  3\n",
              "temperature              3\n",
              "time                     5\n",
              "coupon                   5\n",
              "expiration               2\n",
              "gender                   2\n",
              "age                      8\n",
              "maritalStatus            5\n",
              "has_children             2\n",
              "education                6\n",
              "occupation              25\n",
              "income                   9\n",
              "car                      5\n",
              "Bar                      5\n",
              "CoffeeHouse              5\n",
              "CarryAway                5\n",
              "RestaurantLessThan20     5\n",
              "Restaurant20To50         5\n",
              "toCoupon_GEQ5min         1\n",
              "toCoupon_GEQ15min        2\n",
              "toCoupon_GEQ25min        2\n",
              "direction_same           2\n",
              "direction_opp            2\n",
              "Y                        2\n",
              "dtype: int64"
            ]
          },
          "metadata": {},
          "execution_count": 3
        }
      ],
      "source": [
        "df.nunique()"
      ]
    },
    {
      "cell_type": "code",
      "execution_count": 4,
      "metadata": {
        "colab": {
          "base_uri": "https://localhost:8080/"
        },
        "id": "tOmf4HVJ0Trj",
        "outputId": "d0c23f38-7aca-4041-f255-f3d94bbc2f65"
      },
      "outputs": [
        {
          "output_type": "execute_result",
          "data": {
            "text/plain": [
              "(12684, 26)"
            ]
          },
          "metadata": {},
          "execution_count": 4
        }
      ],
      "source": [
        "df.shape"
      ]
    },
    {
      "cell_type": "code",
      "execution_count": 5,
      "metadata": {
        "colab": {
          "base_uri": "https://localhost:8080/"
        },
        "id": "AbUC2NH50WxU",
        "outputId": "7b092fd5-cd62-4993-abf3-35c2f4e80178"
      },
      "outputs": [
        {
          "output_type": "execute_result",
          "data": {
            "text/plain": [
              "destination                 0\n",
              "passenger                   0\n",
              "weather                     0\n",
              "temperature                 0\n",
              "time                        0\n",
              "coupon                      0\n",
              "expiration                  0\n",
              "gender                      0\n",
              "age                         0\n",
              "maritalStatus               0\n",
              "has_children                0\n",
              "education                   0\n",
              "occupation                  0\n",
              "income                      0\n",
              "car                     12576\n",
              "Bar                       107\n",
              "CoffeeHouse               217\n",
              "CarryAway                 151\n",
              "RestaurantLessThan20      130\n",
              "Restaurant20To50          189\n",
              "toCoupon_GEQ5min            0\n",
              "toCoupon_GEQ15min           0\n",
              "toCoupon_GEQ25min           0\n",
              "direction_same              0\n",
              "direction_opp               0\n",
              "Y                           0\n",
              "dtype: int64"
            ]
          },
          "metadata": {},
          "execution_count": 5
        }
      ],
      "source": [
        "df.isnull().sum()"
      ]
    },
    {
      "cell_type": "markdown",
      "metadata": {
        "id": "vtnIcoUT0c7G"
      },
      "source": [
        "## **Dropping un-necessary columns**"
      ]
    },
    {
      "cell_type": "code",
      "execution_count": 6,
      "metadata": {
        "id": "WTLH8eaN0Zr_"
      },
      "outputs": [],
      "source": [
        "df = df.drop(['car','direction_opp'], axis=1)"
      ]
    },
    {
      "cell_type": "markdown",
      "metadata": {
        "id": "p_gEgg6MbU2m"
      },
      "source": [
        "##**Encoding gender & Renaming direction_same to direction**"
      ]
    },
    {
      "cell_type": "code",
      "execution_count": 7,
      "metadata": {
        "colab": {
          "base_uri": "https://localhost:8080/"
        },
        "id": "6EiDT4W_0_sc",
        "outputId": "8a687ac4-1dbc-4bb8-f030-0609278ae753"
      },
      "outputs": [
        {
          "output_type": "stream",
          "name": "stderr",
          "text": [
            "/usr/local/lib/python3.7/dist-packages/ipykernel_launcher.py:7: SettingWithCopyWarning: \n",
            "A value is trying to be set on a copy of a slice from a DataFrame.\n",
            "Try using .loc[row_indexer,col_indexer] = value instead\n",
            "\n",
            "See the caveats in the documentation: https://pandas.pydata.org/pandas-docs/stable/user_guide/indexing.html#returning-a-view-versus-a-copy\n",
            "  import sys\n"
          ]
        }
      ],
      "source": [
        "## Grouping similar type of data \n",
        "\n",
        "binary_attributes = df[['gender','has_children','direction_same']]\n",
        "\n",
        "#Encoding gender (Male : 1, Female : 0)\n",
        "lb = LabelEncoder()\n",
        "binary_attributes['gender'] = lb.fit_transform(binary_attributes['gender'])\n",
        "\n",
        "#Renaming direction_same column as direction (Same : 1, Opposite : 0)\n",
        "binary_attributes = binary_attributes.rename(columns={'direction_same' : 'direction'})\n",
        "\n"
      ]
    },
    {
      "cell_type": "markdown",
      "metadata": {
        "id": "eJ5HGDQS4uez"
      },
      "source": [
        "##**Encoding Ordinal attributes**"
      ]
    },
    {
      "cell_type": "code",
      "execution_count": 8,
      "metadata": {
        "id": "0m1tF5wD-Svt"
      },
      "outputs": [],
      "source": [
        "ordinal_attributes = df[['income','education','age','time','expiration']]\n",
        "\n",
        "def ordinal_encoding(attr, order):\n",
        "    ordinal_attributes[attr] = ordinal_attributes[attr].astype('category')\n",
        "    ordinal_attributes[attr] = ordinal_attributes[attr].cat.reorder_categories(\n",
        "        new_categories=order,\n",
        "        ordered=True\n",
        "    )\n",
        "\n",
        "    return pd.Series(ordinal_attributes[attr].cat.codes, name=attr)"
      ]
    },
    {
      "cell_type": "code",
      "execution_count": 9,
      "metadata": {
        "colab": {
          "base_uri": "https://localhost:8080/"
        },
        "id": "aPu-EMVI9NI6",
        "outputId": "a8c19ddd-b74c-4aac-e817-507684ba6571"
      },
      "outputs": [
        {
          "output_type": "execute_result",
          "data": {
            "text/plain": [
              "array(['$37500 - $49999', '$62500 - $74999', '$12500 - $24999',\n",
              "       '$75000 - $87499', '$50000 - $62499', '$25000 - $37499',\n",
              "       '$100000 or More', '$87500 - $99999', 'Less than $12500'],\n",
              "      dtype=object)"
            ]
          },
          "metadata": {},
          "execution_count": 9
        }
      ],
      "source": [
        "ordinal_attributes['income'].unique()\n"
      ]
    },
    {
      "cell_type": "code",
      "execution_count": 10,
      "metadata": {
        "colab": {
          "base_uri": "https://localhost:8080/"
        },
        "id": "QzSwB_fz-TSI",
        "outputId": "c6d841eb-205e-4b68-958c-c5416a3d6cec"
      },
      "outputs": [
        {
          "output_type": "execute_result",
          "data": {
            "text/plain": [
              "array(['Some college - no degree', 'Bachelors degree',\n",
              "       'Associates degree', 'High School Graduate',\n",
              "       'Graduate degree (Masters or Doctorate)', 'Some High School'],\n",
              "      dtype=object)"
            ]
          },
          "metadata": {},
          "execution_count": 10
        }
      ],
      "source": [
        "ordinal_attributes['education'].unique()\n"
      ]
    },
    {
      "cell_type": "code",
      "execution_count": 11,
      "metadata": {
        "colab": {
          "base_uri": "https://localhost:8080/"
        },
        "id": "d2ht_0P8-TKs",
        "outputId": "7740353a-2b57-467a-fc68-c9aee0dd6352"
      },
      "outputs": [
        {
          "output_type": "execute_result",
          "data": {
            "text/plain": [
              "array(['2PM', '10AM', '6PM', '7AM', '10PM'], dtype=object)"
            ]
          },
          "metadata": {},
          "execution_count": 11
        }
      ],
      "source": [
        "ordinal_attributes['time'].unique()\n"
      ]
    },
    {
      "cell_type": "code",
      "execution_count": 12,
      "metadata": {
        "colab": {
          "base_uri": "https://localhost:8080/"
        },
        "id": "eJ3gbGuZ-TCR",
        "outputId": "0c0bba62-b851-48d5-837d-0eb040cb98bf"
      },
      "outputs": [
        {
          "output_type": "execute_result",
          "data": {
            "text/plain": [
              "array(['21', '46', '26', '31', '41', '50plus', '36', 'below21'],\n",
              "      dtype=object)"
            ]
          },
          "metadata": {},
          "execution_count": 12
        }
      ],
      "source": [
        "ordinal_attributes['age'].unique()\n"
      ]
    },
    {
      "cell_type": "code",
      "execution_count": 13,
      "metadata": {
        "colab": {
          "base_uri": "https://localhost:8080/"
        },
        "id": "c7C1MblU-S6d",
        "outputId": "013d4411-209a-49e1-891b-098364028d51"
      },
      "outputs": [
        {
          "output_type": "execute_result",
          "data": {
            "text/plain": [
              "array(['1d', '2h'], dtype=object)"
            ]
          },
          "metadata": {},
          "execution_count": 13
        }
      ],
      "source": [
        "ordinal_attributes['expiration'].unique()"
      ]
    },
    {
      "cell_type": "code",
      "execution_count": 14,
      "metadata": {
        "id": "f2BOtSIsGLk7"
      },
      "outputs": [],
      "source": [
        "ordinal_attributes = ordinal_attributes.dropna()"
      ]
    },
    {
      "cell_type": "code",
      "execution_count": 15,
      "metadata": {
        "id": "tfaVAipr2ElH"
      },
      "outputs": [],
      "source": [
        "Income = ['Less than $12500', '$12500 - $24999', '$25000 - $37499', '$37500 - $49999', '$50000 - $62499', '$62500 - $74999', '$75000 - $87499', '$87500 - $99999', '$100000 or More']\n",
        "Education = ['Some High School','High School Graduate', 'Some college - no degree', 'Associates degree', 'Bachelors degree', 'Graduate degree (Masters or Doctorate)']\n",
        "Age = ['below21', '21', '26', '31', '36', '41', '46', '50plus']\n",
        "Time = ['7AM', '10AM', '2PM', '6PM', '10PM']\n",
        "Expiration = ['2h', '1d']\n",
        "\n",
        "\n",
        "Income= ordinal_encoding('income', Income)\n",
        "Education = ordinal_encoding('education', Education)\n",
        "Age = ordinal_encoding('age', Age)\n",
        "Time = ordinal_encoding('time', Time)\n",
        "Expiration = ordinal_encoding('expiration', Expiration)"
      ]
    },
    {
      "cell_type": "code",
      "execution_count": 16,
      "metadata": {
        "colab": {
          "base_uri": "https://localhost:8080/"
        },
        "id": "HocGM-kd5muw",
        "outputId": "f1613af4-86b7-479e-eed2-a21b32628237"
      },
      "outputs": [
        {
          "output_type": "stream",
          "name": "stderr",
          "text": [
            "/usr/local/lib/python3.7/dist-packages/ipykernel_launcher.py:7: SettingWithCopyWarning: \n",
            "A value is trying to be set on a copy of a slice from a DataFrame.\n",
            "Try using .loc[row_indexer,col_indexer] = value instead\n",
            "\n",
            "See the caveats in the documentation: https://pandas.pydata.org/pandas-docs/stable/user_guide/indexing.html#returning-a-view-versus-a-copy\n",
            "  import sys\n"
          ]
        }
      ],
      "source": [
        "#Reordering for encoding\n",
        "P = df[['Bar','CoffeeHouse','CarryAway','RestaurantLessThan20','Restaurant20To50']]\n",
        "\n",
        "p_order = {'never': 0, 'less1': 1,'1~3': 2, '4~8': 3, 'gt8': 4}\n",
        "\n",
        "for col in P:\n",
        "    P[col] = P[col].map(p_order, na_action='ignore')"
      ]
    },
    {
      "cell_type": "code",
      "execution_count": 17,
      "metadata": {
        "id": "ESFLOiDC5vwo"
      },
      "outputs": [],
      "source": [
        "P = P.dropna()"
      ]
    },
    {
      "cell_type": "markdown",
      "metadata": {
        "id": "Nb47OnKfblSa"
      },
      "source": [
        "##Encoding sets of Nominal attributes"
      ]
    },
    {
      "cell_type": "code",
      "execution_count": 19,
      "metadata": {
        "id": "UOFuwjApdgry"
      },
      "outputs": [],
      "source": [
        "Q = df[['destination', 'passenger', 'weather', 'coupon', 'maritalStatus', 'occupation']]\n",
        "Q = pd.get_dummies(Q)"
      ]
    },
    {
      "cell_type": "code",
      "execution_count": 20,
      "metadata": {
        "colab": {
          "base_uri": "https://localhost:8080/",
          "height": 517
        },
        "id": "_GnU_9QWeCGv",
        "outputId": "6e9865b6-6878-45ec-f3a5-8bd3273e949b"
      },
      "outputs": [
        {
          "output_type": "execute_result",
          "data": {
            "text/plain": [
              "       destination_Home  destination_No Urgent Place  destination_Work  \\\n",
              "0                     0                            1                 0   \n",
              "1                     0                            1                 0   \n",
              "2                     0                            1                 0   \n",
              "3                     0                            1                 0   \n",
              "4                     0                            1                 0   \n",
              "...                 ...                          ...               ...   \n",
              "12679                 1                            0                 0   \n",
              "12680                 0                            0                 1   \n",
              "12681                 0                            0                 1   \n",
              "12682                 0                            0                 1   \n",
              "12683                 0                            0                 1   \n",
              "\n",
              "       passenger_Alone  passenger_Friend(s)  passenger_Kid(s)  \\\n",
              "0                    1                    0                 0   \n",
              "1                    0                    1                 0   \n",
              "2                    0                    1                 0   \n",
              "3                    0                    1                 0   \n",
              "4                    0                    1                 0   \n",
              "...                ...                  ...               ...   \n",
              "12679                0                    0                 0   \n",
              "12680                1                    0                 0   \n",
              "12681                1                    0                 0   \n",
              "12682                1                    0                 0   \n",
              "12683                1                    0                 0   \n",
              "\n",
              "       passenger_Partner  weather_Rainy  weather_Snowy  weather_Sunny  ...  \\\n",
              "0                      0              0              0              1  ...   \n",
              "1                      0              0              0              1  ...   \n",
              "2                      0              0              0              1  ...   \n",
              "3                      0              0              0              1  ...   \n",
              "4                      0              0              0              1  ...   \n",
              "...                  ...            ...            ...            ...  ...   \n",
              "12679                  1              1              0              0  ...   \n",
              "12680                  0              1              0              0  ...   \n",
              "12681                  0              0              1              0  ...   \n",
              "12682                  0              0              1              0  ...   \n",
              "12683                  0              0              0              1  ...   \n",
              "\n",
              "       occupation_Management  occupation_Office & Administrative Support  \\\n",
              "0                          0                                           0   \n",
              "1                          0                                           0   \n",
              "2                          0                                           0   \n",
              "3                          0                                           0   \n",
              "4                          0                                           0   \n",
              "...                      ...                                         ...   \n",
              "12679                      0                                           0   \n",
              "12680                      0                                           0   \n",
              "12681                      0                                           0   \n",
              "12682                      0                                           0   \n",
              "12683                      0                                           0   \n",
              "\n",
              "       occupation_Personal Care & Service  occupation_Production Occupations  \\\n",
              "0                                       0                                  0   \n",
              "1                                       0                                  0   \n",
              "2                                       0                                  0   \n",
              "3                                       0                                  0   \n",
              "4                                       0                                  0   \n",
              "...                                   ...                                ...   \n",
              "12679                                   0                                  0   \n",
              "12680                                   0                                  0   \n",
              "12681                                   0                                  0   \n",
              "12682                                   0                                  0   \n",
              "12683                                   0                                  0   \n",
              "\n",
              "       occupation_Protective Service  occupation_Retired  \\\n",
              "0                                  0                   0   \n",
              "1                                  0                   0   \n",
              "2                                  0                   0   \n",
              "3                                  0                   0   \n",
              "4                                  0                   0   \n",
              "...                              ...                 ...   \n",
              "12679                              0                   0   \n",
              "12680                              0                   0   \n",
              "12681                              0                   0   \n",
              "12682                              0                   0   \n",
              "12683                              0                   0   \n",
              "\n",
              "       occupation_Sales & Related  occupation_Student  \\\n",
              "0                               0                   0   \n",
              "1                               0                   0   \n",
              "2                               0                   0   \n",
              "3                               0                   0   \n",
              "4                               0                   0   \n",
              "...                           ...                 ...   \n",
              "12679                           1                   0   \n",
              "12680                           1                   0   \n",
              "12681                           1                   0   \n",
              "12682                           1                   0   \n",
              "12683                           1                   0   \n",
              "\n",
              "       occupation_Transportation & Material Moving  occupation_Unemployed  \n",
              "0                                                0                      1  \n",
              "1                                                0                      1  \n",
              "2                                                0                      1  \n",
              "3                                                0                      1  \n",
              "4                                                0                      1  \n",
              "...                                            ...                    ...  \n",
              "12679                                            0                      0  \n",
              "12680                                            0                      0  \n",
              "12681                                            0                      0  \n",
              "12682                                            0                      0  \n",
              "12683                                            0                      0  \n",
              "\n",
              "[12684 rows x 45 columns]"
            ],
            "text/html": [
              "\n",
              "  <div id=\"df-23395ee3-7896-4d89-9f3c-df1a9b212dd1\">\n",
              "    <div class=\"colab-df-container\">\n",
              "      <div>\n",
              "<style scoped>\n",
              "    .dataframe tbody tr th:only-of-type {\n",
              "        vertical-align: middle;\n",
              "    }\n",
              "\n",
              "    .dataframe tbody tr th {\n",
              "        vertical-align: top;\n",
              "    }\n",
              "\n",
              "    .dataframe thead th {\n",
              "        text-align: right;\n",
              "    }\n",
              "</style>\n",
              "<table border=\"1\" class=\"dataframe\">\n",
              "  <thead>\n",
              "    <tr style=\"text-align: right;\">\n",
              "      <th></th>\n",
              "      <th>destination_Home</th>\n",
              "      <th>destination_No Urgent Place</th>\n",
              "      <th>destination_Work</th>\n",
              "      <th>passenger_Alone</th>\n",
              "      <th>passenger_Friend(s)</th>\n",
              "      <th>passenger_Kid(s)</th>\n",
              "      <th>passenger_Partner</th>\n",
              "      <th>weather_Rainy</th>\n",
              "      <th>weather_Snowy</th>\n",
              "      <th>weather_Sunny</th>\n",
              "      <th>...</th>\n",
              "      <th>occupation_Management</th>\n",
              "      <th>occupation_Office &amp; Administrative Support</th>\n",
              "      <th>occupation_Personal Care &amp; Service</th>\n",
              "      <th>occupation_Production Occupations</th>\n",
              "      <th>occupation_Protective Service</th>\n",
              "      <th>occupation_Retired</th>\n",
              "      <th>occupation_Sales &amp; Related</th>\n",
              "      <th>occupation_Student</th>\n",
              "      <th>occupation_Transportation &amp; Material Moving</th>\n",
              "      <th>occupation_Unemployed</th>\n",
              "    </tr>\n",
              "  </thead>\n",
              "  <tbody>\n",
              "    <tr>\n",
              "      <th>0</th>\n",
              "      <td>0</td>\n",
              "      <td>1</td>\n",
              "      <td>0</td>\n",
              "      <td>1</td>\n",
              "      <td>0</td>\n",
              "      <td>0</td>\n",
              "      <td>0</td>\n",
              "      <td>0</td>\n",
              "      <td>0</td>\n",
              "      <td>1</td>\n",
              "      <td>...</td>\n",
              "      <td>0</td>\n",
              "      <td>0</td>\n",
              "      <td>0</td>\n",
              "      <td>0</td>\n",
              "      <td>0</td>\n",
              "      <td>0</td>\n",
              "      <td>0</td>\n",
              "      <td>0</td>\n",
              "      <td>0</td>\n",
              "      <td>1</td>\n",
              "    </tr>\n",
              "    <tr>\n",
              "      <th>1</th>\n",
              "      <td>0</td>\n",
              "      <td>1</td>\n",
              "      <td>0</td>\n",
              "      <td>0</td>\n",
              "      <td>1</td>\n",
              "      <td>0</td>\n",
              "      <td>0</td>\n",
              "      <td>0</td>\n",
              "      <td>0</td>\n",
              "      <td>1</td>\n",
              "      <td>...</td>\n",
              "      <td>0</td>\n",
              "      <td>0</td>\n",
              "      <td>0</td>\n",
              "      <td>0</td>\n",
              "      <td>0</td>\n",
              "      <td>0</td>\n",
              "      <td>0</td>\n",
              "      <td>0</td>\n",
              "      <td>0</td>\n",
              "      <td>1</td>\n",
              "    </tr>\n",
              "    <tr>\n",
              "      <th>2</th>\n",
              "      <td>0</td>\n",
              "      <td>1</td>\n",
              "      <td>0</td>\n",
              "      <td>0</td>\n",
              "      <td>1</td>\n",
              "      <td>0</td>\n",
              "      <td>0</td>\n",
              "      <td>0</td>\n",
              "      <td>0</td>\n",
              "      <td>1</td>\n",
              "      <td>...</td>\n",
              "      <td>0</td>\n",
              "      <td>0</td>\n",
              "      <td>0</td>\n",
              "      <td>0</td>\n",
              "      <td>0</td>\n",
              "      <td>0</td>\n",
              "      <td>0</td>\n",
              "      <td>0</td>\n",
              "      <td>0</td>\n",
              "      <td>1</td>\n",
              "    </tr>\n",
              "    <tr>\n",
              "      <th>3</th>\n",
              "      <td>0</td>\n",
              "      <td>1</td>\n",
              "      <td>0</td>\n",
              "      <td>0</td>\n",
              "      <td>1</td>\n",
              "      <td>0</td>\n",
              "      <td>0</td>\n",
              "      <td>0</td>\n",
              "      <td>0</td>\n",
              "      <td>1</td>\n",
              "      <td>...</td>\n",
              "      <td>0</td>\n",
              "      <td>0</td>\n",
              "      <td>0</td>\n",
              "      <td>0</td>\n",
              "      <td>0</td>\n",
              "      <td>0</td>\n",
              "      <td>0</td>\n",
              "      <td>0</td>\n",
              "      <td>0</td>\n",
              "      <td>1</td>\n",
              "    </tr>\n",
              "    <tr>\n",
              "      <th>4</th>\n",
              "      <td>0</td>\n",
              "      <td>1</td>\n",
              "      <td>0</td>\n",
              "      <td>0</td>\n",
              "      <td>1</td>\n",
              "      <td>0</td>\n",
              "      <td>0</td>\n",
              "      <td>0</td>\n",
              "      <td>0</td>\n",
              "      <td>1</td>\n",
              "      <td>...</td>\n",
              "      <td>0</td>\n",
              "      <td>0</td>\n",
              "      <td>0</td>\n",
              "      <td>0</td>\n",
              "      <td>0</td>\n",
              "      <td>0</td>\n",
              "      <td>0</td>\n",
              "      <td>0</td>\n",
              "      <td>0</td>\n",
              "      <td>1</td>\n",
              "    </tr>\n",
              "    <tr>\n",
              "      <th>...</th>\n",
              "      <td>...</td>\n",
              "      <td>...</td>\n",
              "      <td>...</td>\n",
              "      <td>...</td>\n",
              "      <td>...</td>\n",
              "      <td>...</td>\n",
              "      <td>...</td>\n",
              "      <td>...</td>\n",
              "      <td>...</td>\n",
              "      <td>...</td>\n",
              "      <td>...</td>\n",
              "      <td>...</td>\n",
              "      <td>...</td>\n",
              "      <td>...</td>\n",
              "      <td>...</td>\n",
              "      <td>...</td>\n",
              "      <td>...</td>\n",
              "      <td>...</td>\n",
              "      <td>...</td>\n",
              "      <td>...</td>\n",
              "      <td>...</td>\n",
              "    </tr>\n",
              "    <tr>\n",
              "      <th>12679</th>\n",
              "      <td>1</td>\n",
              "      <td>0</td>\n",
              "      <td>0</td>\n",
              "      <td>0</td>\n",
              "      <td>0</td>\n",
              "      <td>0</td>\n",
              "      <td>1</td>\n",
              "      <td>1</td>\n",
              "      <td>0</td>\n",
              "      <td>0</td>\n",
              "      <td>...</td>\n",
              "      <td>0</td>\n",
              "      <td>0</td>\n",
              "      <td>0</td>\n",
              "      <td>0</td>\n",
              "      <td>0</td>\n",
              "      <td>0</td>\n",
              "      <td>1</td>\n",
              "      <td>0</td>\n",
              "      <td>0</td>\n",
              "      <td>0</td>\n",
              "    </tr>\n",
              "    <tr>\n",
              "      <th>12680</th>\n",
              "      <td>0</td>\n",
              "      <td>0</td>\n",
              "      <td>1</td>\n",
              "      <td>1</td>\n",
              "      <td>0</td>\n",
              "      <td>0</td>\n",
              "      <td>0</td>\n",
              "      <td>1</td>\n",
              "      <td>0</td>\n",
              "      <td>0</td>\n",
              "      <td>...</td>\n",
              "      <td>0</td>\n",
              "      <td>0</td>\n",
              "      <td>0</td>\n",
              "      <td>0</td>\n",
              "      <td>0</td>\n",
              "      <td>0</td>\n",
              "      <td>1</td>\n",
              "      <td>0</td>\n",
              "      <td>0</td>\n",
              "      <td>0</td>\n",
              "    </tr>\n",
              "    <tr>\n",
              "      <th>12681</th>\n",
              "      <td>0</td>\n",
              "      <td>0</td>\n",
              "      <td>1</td>\n",
              "      <td>1</td>\n",
              "      <td>0</td>\n",
              "      <td>0</td>\n",
              "      <td>0</td>\n",
              "      <td>0</td>\n",
              "      <td>1</td>\n",
              "      <td>0</td>\n",
              "      <td>...</td>\n",
              "      <td>0</td>\n",
              "      <td>0</td>\n",
              "      <td>0</td>\n",
              "      <td>0</td>\n",
              "      <td>0</td>\n",
              "      <td>0</td>\n",
              "      <td>1</td>\n",
              "      <td>0</td>\n",
              "      <td>0</td>\n",
              "      <td>0</td>\n",
              "    </tr>\n",
              "    <tr>\n",
              "      <th>12682</th>\n",
              "      <td>0</td>\n",
              "      <td>0</td>\n",
              "      <td>1</td>\n",
              "      <td>1</td>\n",
              "      <td>0</td>\n",
              "      <td>0</td>\n",
              "      <td>0</td>\n",
              "      <td>0</td>\n",
              "      <td>1</td>\n",
              "      <td>0</td>\n",
              "      <td>...</td>\n",
              "      <td>0</td>\n",
              "      <td>0</td>\n",
              "      <td>0</td>\n",
              "      <td>0</td>\n",
              "      <td>0</td>\n",
              "      <td>0</td>\n",
              "      <td>1</td>\n",
              "      <td>0</td>\n",
              "      <td>0</td>\n",
              "      <td>0</td>\n",
              "    </tr>\n",
              "    <tr>\n",
              "      <th>12683</th>\n",
              "      <td>0</td>\n",
              "      <td>0</td>\n",
              "      <td>1</td>\n",
              "      <td>1</td>\n",
              "      <td>0</td>\n",
              "      <td>0</td>\n",
              "      <td>0</td>\n",
              "      <td>0</td>\n",
              "      <td>0</td>\n",
              "      <td>1</td>\n",
              "      <td>...</td>\n",
              "      <td>0</td>\n",
              "      <td>0</td>\n",
              "      <td>0</td>\n",
              "      <td>0</td>\n",
              "      <td>0</td>\n",
              "      <td>0</td>\n",
              "      <td>1</td>\n",
              "      <td>0</td>\n",
              "      <td>0</td>\n",
              "      <td>0</td>\n",
              "    </tr>\n",
              "  </tbody>\n",
              "</table>\n",
              "<p>12684 rows × 45 columns</p>\n",
              "</div>\n",
              "      <button class=\"colab-df-convert\" onclick=\"convertToInteractive('df-23395ee3-7896-4d89-9f3c-df1a9b212dd1')\"\n",
              "              title=\"Convert this dataframe to an interactive table.\"\n",
              "              style=\"display:none;\">\n",
              "        \n",
              "  <svg xmlns=\"http://www.w3.org/2000/svg\" height=\"24px\"viewBox=\"0 0 24 24\"\n",
              "       width=\"24px\">\n",
              "    <path d=\"M0 0h24v24H0V0z\" fill=\"none\"/>\n",
              "    <path d=\"M18.56 5.44l.94 2.06.94-2.06 2.06-.94-2.06-.94-.94-2.06-.94 2.06-2.06.94zm-11 1L8.5 8.5l.94-2.06 2.06-.94-2.06-.94L8.5 2.5l-.94 2.06-2.06.94zm10 10l.94 2.06.94-2.06 2.06-.94-2.06-.94-.94-2.06-.94 2.06-2.06.94z\"/><path d=\"M17.41 7.96l-1.37-1.37c-.4-.4-.92-.59-1.43-.59-.52 0-1.04.2-1.43.59L10.3 9.45l-7.72 7.72c-.78.78-.78 2.05 0 2.83L4 21.41c.39.39.9.59 1.41.59.51 0 1.02-.2 1.41-.59l7.78-7.78 2.81-2.81c.8-.78.8-2.07 0-2.86zM5.41 20L4 18.59l7.72-7.72 1.47 1.35L5.41 20z\"/>\n",
              "  </svg>\n",
              "      </button>\n",
              "      \n",
              "  <style>\n",
              "    .colab-df-container {\n",
              "      display:flex;\n",
              "      flex-wrap:wrap;\n",
              "      gap: 12px;\n",
              "    }\n",
              "\n",
              "    .colab-df-convert {\n",
              "      background-color: #E8F0FE;\n",
              "      border: none;\n",
              "      border-radius: 50%;\n",
              "      cursor: pointer;\n",
              "      display: none;\n",
              "      fill: #1967D2;\n",
              "      height: 32px;\n",
              "      padding: 0 0 0 0;\n",
              "      width: 32px;\n",
              "    }\n",
              "\n",
              "    .colab-df-convert:hover {\n",
              "      background-color: #E2EBFA;\n",
              "      box-shadow: 0px 1px 2px rgba(60, 64, 67, 0.3), 0px 1px 3px 1px rgba(60, 64, 67, 0.15);\n",
              "      fill: #174EA6;\n",
              "    }\n",
              "\n",
              "    [theme=dark] .colab-df-convert {\n",
              "      background-color: #3B4455;\n",
              "      fill: #D2E3FC;\n",
              "    }\n",
              "\n",
              "    [theme=dark] .colab-df-convert:hover {\n",
              "      background-color: #434B5C;\n",
              "      box-shadow: 0px 1px 3px 1px rgba(0, 0, 0, 0.15);\n",
              "      filter: drop-shadow(0px 1px 2px rgba(0, 0, 0, 0.3));\n",
              "      fill: #FFFFFF;\n",
              "    }\n",
              "  </style>\n",
              "\n",
              "      <script>\n",
              "        const buttonEl =\n",
              "          document.querySelector('#df-23395ee3-7896-4d89-9f3c-df1a9b212dd1 button.colab-df-convert');\n",
              "        buttonEl.style.display =\n",
              "          google.colab.kernel.accessAllowed ? 'block' : 'none';\n",
              "\n",
              "        async function convertToInteractive(key) {\n",
              "          const element = document.querySelector('#df-23395ee3-7896-4d89-9f3c-df1a9b212dd1');\n",
              "          const dataTable =\n",
              "            await google.colab.kernel.invokeFunction('convertToInteractive',\n",
              "                                                     [key], {});\n",
              "          if (!dataTable) return;\n",
              "\n",
              "          const docLinkHtml = 'Like what you see? Visit the ' +\n",
              "            '<a target=\"_blank\" href=https://colab.research.google.com/notebooks/data_table.ipynb>data table notebook</a>'\n",
              "            + ' to learn more about interactive tables.';\n",
              "          element.innerHTML = '';\n",
              "          dataTable['output_type'] = 'display_data';\n",
              "          await google.colab.output.renderOutput(dataTable, element);\n",
              "          const docLink = document.createElement('div');\n",
              "          docLink.innerHTML = docLinkHtml;\n",
              "          element.appendChild(docLink);\n",
              "        }\n",
              "      </script>\n",
              "    </div>\n",
              "  </div>\n",
              "  "
            ]
          },
          "metadata": {},
          "execution_count": 20
        }
      ],
      "source": [
        "Q"
      ]
    },
    {
      "cell_type": "code",
      "execution_count": 21,
      "metadata": {
        "id": "q1VbNRZUgdTj"
      },
      "outputs": [],
      "source": [
        "Coupon_est = df[['toCoupon_GEQ15min', 'toCoupon_GEQ25min']].to_numpy()\n",
        "t = np.sum(Coupon_est, axis=1)\n",
        "Coupon_est_final = pd.Series(data=np.sum(Coupon_est, axis=1),name='Coupon_est')"
      ]
    },
    {
      "cell_type": "markdown",
      "metadata": {
        "id": "Y4vJKxgLfJdL"
      },
      "source": [
        "##**Concat all encoded subsets**"
      ]
    },
    {
      "cell_type": "code",
      "execution_count": 22,
      "metadata": {
        "id": "rpOy0r9peOmb"
      },
      "outputs": [],
      "source": [
        "Final_df = pd.concat([binary_attributes,Income,\n",
        "     Education,\n",
        "     Age,\n",
        "     Time,\n",
        "     Expiration,\n",
        "     P,\n",
        "     Q,\n",
        "     Coupon_est_final,\n",
        "     df['Y']],\n",
        "     axis=1\n",
        ")"
      ]
    },
    {
      "cell_type": "code",
      "execution_count": 23,
      "metadata": {
        "colab": {
          "base_uri": "https://localhost:8080/"
        },
        "id": "1WIIrNogftk1",
        "outputId": "1bdd6389-718d-426c-b80e-6837582e22fe"
      },
      "outputs": [
        {
          "output_type": "execute_result",
          "data": {
            "text/plain": [
              "gender                                                    0\n",
              "has_children                                              0\n",
              "direction                                                 0\n",
              "income                                                    0\n",
              "education                                                 0\n",
              "age                                                       0\n",
              "time                                                      0\n",
              "expiration                                                0\n",
              "Bar                                                     605\n",
              "CoffeeHouse                                             605\n",
              "CarryAway                                               605\n",
              "RestaurantLessThan20                                    605\n",
              "Restaurant20To50                                        605\n",
              "destination_Home                                          0\n",
              "destination_No Urgent Place                               0\n",
              "destination_Work                                          0\n",
              "passenger_Alone                                           0\n",
              "passenger_Friend(s)                                       0\n",
              "passenger_Kid(s)                                          0\n",
              "passenger_Partner                                         0\n",
              "weather_Rainy                                             0\n",
              "weather_Snowy                                             0\n",
              "weather_Sunny                                             0\n",
              "coupon_Bar                                                0\n",
              "coupon_Carry out & Take away                              0\n",
              "coupon_Coffee House                                       0\n",
              "coupon_Restaurant(20-50)                                  0\n",
              "coupon_Restaurant(<20)                                    0\n",
              "maritalStatus_Divorced                                    0\n",
              "maritalStatus_Married partner                             0\n",
              "maritalStatus_Single                                      0\n",
              "maritalStatus_Unmarried partner                           0\n",
              "maritalStatus_Widowed                                     0\n",
              "occupation_Architecture & Engineering                     0\n",
              "occupation_Arts Design Entertainment Sports & Media       0\n",
              "occupation_Building & Grounds Cleaning & Maintenance      0\n",
              "occupation_Business & Financial                           0\n",
              "occupation_Community & Social Services                    0\n",
              "occupation_Computer & Mathematical                        0\n",
              "occupation_Construction & Extraction                      0\n",
              "occupation_Education&Training&Library                     0\n",
              "occupation_Farming Fishing & Forestry                     0\n",
              "occupation_Food Preparation & Serving Related             0\n",
              "occupation_Healthcare Practitioners & Technical           0\n",
              "occupation_Healthcare Support                             0\n",
              "occupation_Installation Maintenance & Repair              0\n",
              "occupation_Legal                                          0\n",
              "occupation_Life Physical Social Science                   0\n",
              "occupation_Management                                     0\n",
              "occupation_Office & Administrative Support                0\n",
              "occupation_Personal Care & Service                        0\n",
              "occupation_Production Occupations                         0\n",
              "occupation_Protective Service                             0\n",
              "occupation_Retired                                        0\n",
              "occupation_Sales & Related                                0\n",
              "occupation_Student                                        0\n",
              "occupation_Transportation & Material Moving               0\n",
              "occupation_Unemployed                                     0\n",
              "Coupon_est                                                0\n",
              "Y                                                         0\n",
              "dtype: int64"
            ]
          },
          "metadata": {},
          "execution_count": 23
        }
      ],
      "source": [
        "Final_df.isnull().sum()"
      ]
    },
    {
      "cell_type": "code",
      "execution_count": 24,
      "metadata": {
        "id": "sXzEslnNiCyX"
      },
      "outputs": [],
      "source": [
        "data_preprocessed = Final_df.dropna()"
      ]
    },
    {
      "cell_type": "code",
      "execution_count": 25,
      "metadata": {
        "colab": {
          "base_uri": "https://localhost:8080/"
        },
        "id": "15HORODGiRnN",
        "outputId": "7a2ee85f-9aee-494e-9989-1120bb89762c"
      },
      "outputs": [
        {
          "output_type": "execute_result",
          "data": {
            "text/plain": [
              "1    6877\n",
              "0    5202\n",
              "Name: Y, dtype: int64"
            ]
          },
          "metadata": {},
          "execution_count": 25
        }
      ],
      "source": [
        "data_preprocessed['Y'].value_counts()"
      ]
    },
    {
      "cell_type": "code",
      "execution_count": 26,
      "metadata": {
        "colab": {
          "base_uri": "https://localhost:8080/"
        },
        "id": "B4ceQj3XiS_S",
        "outputId": "6d9dca7b-6ca2-4c84-f598-413510e8b4b0"
      },
      "outputs": [
        {
          "output_type": "execute_result",
          "data": {
            "text/plain": [
              "(12079, 60)"
            ]
          },
          "metadata": {},
          "execution_count": 26
        }
      ],
      "source": [
        "data_preprocessed.shape"
      ]
    },
    {
      "cell_type": "code",
      "execution_count": 27,
      "metadata": {
        "colab": {
          "base_uri": "https://localhost:8080/"
        },
        "id": "3pPsAO52iXTl",
        "outputId": "c98b78cf-1165-4486-be26-59a773c291de"
      },
      "outputs": [
        {
          "output_type": "execute_result",
          "data": {
            "text/plain": [
              "1    6877\n",
              "0    5202\n",
              "Name: Y, dtype: int64"
            ]
          },
          "metadata": {},
          "execution_count": 27
        }
      ],
      "source": [
        "data_preprocessed['Y'].value_counts()"
      ]
    },
    {
      "cell_type": "code",
      "source": [
        "data_preprocessed.to_csv('data-preprocessed.csv')"
      ],
      "metadata": {
        "id": "M0RXG49DVBXt"
      },
      "execution_count": 28,
      "outputs": []
    },
    {
      "cell_type": "markdown",
      "source": [
        ""
      ],
      "metadata": {
        "id": "nWyaIzXaeeqr"
      }
    },
    {
      "cell_type": "markdown",
      "source": [
        "##**Stratified K-fold cross-validation with RandomForestClassifier**\n"
      ],
      "metadata": {
        "id": "u4RYKo0celdf"
      }
    },
    {
      "cell_type": "code",
      "source": [
        "from sklearn.model_selection import StratifiedKFold\n",
        "from sklearn.model_selection import cross_val_score \n",
        "from sklearn.metrics import confusion_matrix,classification_report,accuracy_score\n",
        "from sklearn.ensemble import RandomForestClassifier\n",
        "\n",
        "accuracy = []\n",
        "\n",
        "X = data_preprocessed.drop(['Y'],axis=1)\n",
        "y = data_preprocessed['Y']\n",
        "\n",
        "sk_fold = StratifiedKFold()\n",
        "skf = sk_fold.split(X,y)\n",
        "\n",
        "for train_index, test_index in skf:\n",
        "  print(\"Train:\", train_index, \"Validation:\", test_index)\n",
        "  Xs_train, Xs_test = X.iloc[train_index], X.iloc[test_index]\n",
        "  ys_train, ys_test = y.iloc[train_index], y.iloc[test_index]\n",
        "  clf = RandomForestClassifier()\n",
        "  clf.fit(Xs_train, ys_train)\n",
        "  y_pred = clf.predict(Xs_test)\n",
        "  scores = accuracy_score(y_pred, ys_test)\n",
        "  accuracy.append(scores)\n",
        "\n",
        "\n",
        "\n",
        "print(accuracy)\n",
        "print(np.array(accuracy).mean())\n"
      ],
      "metadata": {
        "colab": {
          "base_uri": "https://localhost:8080/"
        },
        "id": "TlUsQOqrechf",
        "outputId": "1692e358-a7e4-47ee-faa5-c8c6447e56b6"
      },
      "execution_count": 29,
      "outputs": [
        {
          "output_type": "stream",
          "name": "stdout",
          "text": [
            "Train: [ 2306  2307  2308 ... 12076 12077 12078] Validation: [   0    1    2 ... 2591 2596 2600]\n",
            "Train: [    0     1     2 ... 12076 12077 12078] Validation: [2306 2307 2308 ... 5017 5018 5019]\n",
            "Train: [    0     1     2 ... 12076 12077 12078] Validation: [4662 4663 4664 ... 7389 7390 7391]\n",
            "Train: [    0     1     2 ... 12076 12077 12078] Validation: [7136 7137 7138 ... 9680 9681 9682]\n",
            "Train: [   0    1    2 ... 9680 9681 9682] Validation: [ 9649  9650  9651 ... 12076 12077 12078]\n",
            "[0.6957781456953642, 0.7073675496688742, 0.6792218543046358, 0.6589403973509934, 0.7142857142857143]\n",
            "0.6911187322611164\n"
          ]
        }
      ]
    },
    {
      "cell_type": "markdown",
      "metadata": {
        "id": "oMk7OWGqrhRU"
      },
      "source": [
        "##**Train-Test Split**"
      ]
    },
    {
      "cell_type": "code",
      "execution_count": 30,
      "metadata": {
        "id": "BmL3bd6em_Xz"
      },
      "outputs": [],
      "source": [
        "X = data_preprocessed.drop(['Y'],axis=1)\n",
        "y = data_preprocessed['Y']\n",
        "\n",
        "from sklearn.model_selection import train_test_split\n",
        "X_train, X_test, y_train, y_test = train_test_split(X, y, test_size=0.3, random_state=0)"
      ]
    },
    {
      "cell_type": "code",
      "source": [
        ""
      ],
      "metadata": {
        "id": "NH0ZzXcglIgM"
      },
      "execution_count": 30,
      "outputs": []
    },
    {
      "cell_type": "markdown",
      "metadata": {
        "id": "hKlbm4trcNLP"
      },
      "source": [
        "##Feature importance"
      ]
    },
    {
      "cell_type": "code",
      "execution_count": 31,
      "metadata": {
        "id": "2dUu8wescMRk"
      },
      "outputs": [],
      "source": [
        "#Mutual info classifier\n",
        "from sklearn.feature_selection import mutual_info_classif\n",
        "m = mutual_info_classif(X_train,y_train)\n",
        "\n",
        "mutual_info = pd.Series(m)\n",
        "mutual_info.index = X_train.columns\n",
        "\n",
        "mutual_info = mutual_info.sort_values(ascending=False)"
      ]
    },
    {
      "cell_type": "code",
      "source": [
        "len(m)"
      ],
      "metadata": {
        "colab": {
          "base_uri": "https://localhost:8080/"
        },
        "id": "z_SOka4RzCA8",
        "outputId": "bbc4f0d1-9dd8-4c6a-c80c-71d0c8d1a5be"
      },
      "execution_count": 32,
      "outputs": [
        {
          "output_type": "execute_result",
          "data": {
            "text/plain": [
              "59"
            ]
          },
          "metadata": {},
          "execution_count": 32
        }
      ]
    },
    {
      "cell_type": "code",
      "execution_count": 33,
      "metadata": {
        "colab": {
          "base_uri": "https://localhost:8080/",
          "height": 592
        },
        "id": "xmoYQTTCRnRJ",
        "outputId": "410579cd-0716-42e8-daac-1f5496170767"
      },
      "outputs": [
        {
          "output_type": "display_data",
          "data": {
            "text/plain": [
              "<Figure size 1152x360 with 1 Axes>"
            ],
            "image/png": "[encoded data removed]"
          },
          "metadata": {
            "needs_background": "light"
          }
        }
      ],
      "source": [
        "ax = mutual_info.plot.bar(figsize=(16,5))\n",
        "figure = ax.get_figure()\n",
        "figure.savefig('Feature importance.png')"
      ]
    },
    {
      "cell_type": "markdown",
      "metadata": {
        "id": "QKg3Vtwg0kF_"
      },
      "source": [
        "##Hyperparameter tuning using 10-fold GridSearchCV on RandomForestClassifier"
      ]
    },
    {
      "cell_type": "code",
      "execution_count": null,
      "metadata": {
        "id": "q3mJI1DPnPUv"
      },
      "outputs": [],
      "source": [
        "# Number of trees in random forest\n",
        "n_estimators = [50,100,200,300,400,500]#[int(x) for x in np.linspace(start = 10, stop = 100, num = 10)]\n",
        "# Number of features to consider at every split\n",
        "max_features = ['auto', 'sqrt']\n",
        "# Maximum number of levels in tree\n",
        "max_depth = [2,4]\n",
        "# Minimum number of samples required to split a node\n",
        "min_samples_split = [2, 5]\n",
        "# Minimum number of samples required at each leaf node\n",
        "min_samples_leaf = [1, 2,]\n",
        "# Method of selecting samples for training each tree\n",
        "bootstrap = [True, False]"
      ]
    },
    {
      "cell_type": "code",
      "execution_count": null,
      "metadata": {
        "colab": {
          "base_uri": "https://localhost:8080/"
        },
        "id": "sUZdDFuiopW_",
        "outputId": "a2aaa66e-d33b-4f22-9f7b-16fc17af280d"
      },
      "outputs": [
        {
          "output_type": "stream",
          "name": "stdout",
          "text": [
            "{'n_estimators': [50, 100, 200, 300, 400, 500], 'max_features': ['auto', 'sqrt'], 'max_depth': [2, 4], 'min_samples_split': [2, 5], 'min_samples_leaf': [1, 2], 'bootstrap': [True, False]}\n"
          ]
        }
      ],
      "source": [
        "# Create the param grid\n",
        "param_grid = { 'n_estimators': n_estimators,\n",
        "               'max_features': max_features,\n",
        "               'max_depth': max_depth,\n",
        "               'min_samples_split': min_samples_split,\n",
        "               'min_samples_leaf': min_samples_leaf,\n",
        "               'bootstrap': bootstrap}\n",
        "print(param_grid)"
      ]
    },
    {
      "cell_type": "code",
      "execution_count": null,
      "metadata": {
        "id": "BGp2lquGosj8"
      },
      "outputs": [],
      "source": [
        "rf_Model = RandomForestClassifier(criterion='entropy')"
      ]
    },
    {
      "cell_type": "code",
      "execution_count": null,
      "metadata": {
        "id": "73Q9KdmMoxb_"
      },
      "outputs": [],
      "source": [
        "from sklearn.model_selection import GridSearchCV\n",
        "rf_Grid = GridSearchCV(estimator = rf_Model, param_grid = param_grid, cv = 10, verbose=2, n_jobs = 4)"
      ]
    },
    {
      "cell_type": "code",
      "execution_count": null,
      "metadata": {
        "colab": {
          "base_uri": "https://localhost:8080/"
        },
        "id": "fwYs17MRoza_",
        "outputId": "ce7b643a-9297-43b8-80c7-4a467812b316"
      },
      "outputs": [
        {
          "output_type": "stream",
          "name": "stdout",
          "text": [
            "Fitting 10 folds for each of 192 candidates, totalling 1920 fits\n"
          ]
        },
        {
          "output_type": "execute_result",
          "data": {
            "text/plain": [
              "GridSearchCV(cv=10, estimator=RandomForestClassifier(criterion='entropy'),\n",
              "             n_jobs=4,\n",
              "             param_grid={'bootstrap': [True, False], 'max_depth': [2, 4],\n",
              "                         'max_features': ['auto', 'sqrt'],\n",
              "                         'min_samples_leaf': [1, 2],\n",
              "                         'min_samples_split': [2, 5],\n",
              "                         'n_estimators': [50, 100, 200, 300, 400, 500]},\n",
              "             verbose=2)"
            ]
          },
          "metadata": {},
          "execution_count": 72
        }
      ],
      "source": [
        "rf_Grid.fit(X_train, y_train)"
      ]
    },
    {
      "cell_type": "code",
      "execution_count": null,
      "metadata": {
        "colab": {
          "base_uri": "https://localhost:8080/"
        },
        "id": "zCjZZ4Xuo2EM",
        "outputId": "e09cde5c-cd8e-4db5-8591-cdac05151828"
      },
      "outputs": [
        {
          "output_type": "execute_result",
          "data": {
            "text/plain": [
              "{'bootstrap': False,\n",
              " 'max_depth': 4,\n",
              " 'max_features': 'sqrt',\n",
              " 'min_samples_leaf': 1,\n",
              " 'min_samples_split': 5,\n",
              " 'n_estimators': 300}"
            ]
          },
          "metadata": {},
          "execution_count": 73
        }
      ],
      "source": [
        "rf_Grid.best_params_"
      ]
    },
    {
      "cell_type": "code",
      "execution_count": null,
      "metadata": {
        "id": "JcIGQ9rLpAT2"
      },
      "outputs": [],
      "source": [
        "predict = rf_Grid.predict(X_test)"
      ]
    },
    {
      "cell_type": "code",
      "execution_count": null,
      "metadata": {
        "colab": {
          "base_uri": "https://localhost:8080/"
        },
        "id": "zOw5L8SVq2s6",
        "outputId": "f34d0266-2db7-471a-e6bc-c41561b8d801"
      },
      "outputs": [
        {
          "output_type": "stream",
          "name": "stdout",
          "text": [
            "[[ 677  868]\n",
            " [ 248 1831]]\n",
            "0.6920529801324503\n",
            "              precision    recall  f1-score   support\n",
            "\n",
            "           0       0.73      0.44      0.55      1545\n",
            "           1       0.68      0.88      0.77      2079\n",
            "\n",
            "    accuracy                           0.69      3624\n",
            "   macro avg       0.71      0.66      0.66      3624\n",
            "weighted avg       0.70      0.69      0.67      3624\n",
            "\n"
          ]
        }
      ],
      "source": [
        "from sklearn.metrics import confusion_matrix,classification_report,accuracy_score\n",
        "print(confusion_matrix(y_test,predict))\n",
        "print(accuracy_score(y_test,predict))\n",
        "print(classification_report(y_test,predict))\n"
      ]
    },
    {
      "cell_type": "markdown",
      "metadata": {
        "id": "MyGPiwQpVA7m"
      },
      "source": [
        "##Hyperparameter tuning using 10-fold GridSearchCV on K-NN "
      ]
    },
    {
      "cell_type": "code",
      "execution_count": null,
      "metadata": {
        "id": "8VMZvZO8S-Up"
      },
      "outputs": [],
      "source": [
        "from sklearn.neighbors import KNeighborsClassifier\n",
        "knn_model = KNeighborsClassifier(n_neighbors=3)"
      ]
    },
    {
      "cell_type": "code",
      "execution_count": null,
      "metadata": {
        "id": "6Rsec408TliU"
      },
      "outputs": [],
      "source": [
        "k=GridSearchCV(estimator=KNeighborsClassifier(),\n",
        "             param_grid={'n_neighbors': range(1, 50),\n",
        "                         'weights': ['uniform', 'distance']},\n",
        "              cv = 10, verbose=2, n_jobs = 4)"
      ]
    },
    {
      "cell_type": "code",
      "execution_count": null,
      "metadata": {
        "colab": {
          "base_uri": "https://localhost:8080/"
        },
        "id": "siErLQIfUOnk",
        "outputId": "e63269d3-c43b-4eca-fa09-0791cd05b717"
      },
      "outputs": [
        {
          "output_type": "stream",
          "name": "stdout",
          "text": [
            "Fitting 10 folds for each of 98 candidates, totalling 980 fits\n"
          ]
        }
      ],
      "source": [
        "k.fit(X_train,y_train)\n",
        "predict = k.predict(X_test)"
      ]
    },
    {
      "cell_type": "code",
      "execution_count": null,
      "metadata": {
        "colab": {
          "base_uri": "https://localhost:8080/"
        },
        "id": "ZrY9OlqkNxBj",
        "outputId": "117cb312-cba6-4031-a7ba-ad715ec7e51f"
      },
      "outputs": [
        {
          "output_type": "execute_result",
          "data": {
            "text/plain": [
              "{'n_neighbors': 27, 'weights': 'distance'}"
            ]
          },
          "metadata": {},
          "execution_count": 79
        }
      ],
      "source": [
        "k.best_params_"
      ]
    },
    {
      "cell_type": "code",
      "execution_count": null,
      "metadata": {
        "colab": {
          "base_uri": "https://localhost:8080/"
        },
        "id": "rTq1oStqUVA0",
        "outputId": "151cd661-1e1f-4f82-d92a-95eec1eb3ded"
      },
      "outputs": [
        {
          "output_type": "stream",
          "name": "stdout",
          "text": [
            "[[ 809  736]\n",
            " [ 402 1677]]\n",
            "0.6859823399558499\n",
            "              precision    recall  f1-score   support\n",
            "\n",
            "           0       0.67      0.52      0.59      1545\n",
            "           1       0.69      0.81      0.75      2079\n",
            "\n",
            "    accuracy                           0.69      3624\n",
            "   macro avg       0.68      0.67      0.67      3624\n",
            "weighted avg       0.68      0.69      0.68      3624\n",
            "\n"
          ]
        }
      ],
      "source": [
        "from sklearn.metrics import confusion_matrix,classification_report,accuracy_score\n",
        "print(confusion_matrix(y_test,predict))\n",
        "print(accuracy_score(y_test,predict))\n",
        "print(classification_report(y_test,predict))\n"
      ]
    },
    {
      "cell_type": "markdown",
      "metadata": {
        "id": "9V-mb53LGQqb"
      },
      "source": [
        "##Hyperparameter tuning using 10-fold GridSearchSV on AdaBoost"
      ]
    },
    {
      "cell_type": "code",
      "execution_count": null,
      "metadata": {
        "colab": {
          "base_uri": "https://localhost:8080/"
        },
        "id": "iWdC2ekZrIBs",
        "outputId": "64f17443-71f6-410a-9b90-abbbbff36271"
      },
      "outputs": [
        {
          "output_type": "execute_result",
          "data": {
            "text/plain": [
              "GridSearchCV(cv=10,\n",
              "             estimator=AdaBoostClassifier(base_estimator=RandomForestClassifier()),\n",
              "             n_jobs=4,\n",
              "             param_grid={'base_estimator__min_samples_leaf': [5, 7],\n",
              "                         'learning_rate': [1.0], 'n_estimators': [10, 15]},\n",
              "             scoring='f1')"
            ]
          },
          "metadata": {},
          "execution_count": 81
        }
      ],
      "source": [
        "from sklearn.ensemble import AdaBoostClassifier\n",
        "from sklearn.ensemble import RandomForestClassifier\n",
        "abc = AdaBoostClassifier(base_estimator=RandomForestClassifier())\n",
        "\n",
        "#int(x) for x in np.linspace(start = 10, stop = 50, num = 10)\n",
        "parameters = {'base_estimator__min_samples_leaf':[5,7],\n",
        "              'n_estimators':[10,15],\n",
        "              'learning_rate':[1.0]}\n",
        "\n",
        "clf = GridSearchCV(abc, parameters,cv=10,scoring='f1',n_jobs=4)\n",
        "clf.fit(X_train,y_train)"
      ]
    },
    {
      "cell_type": "code",
      "execution_count": null,
      "metadata": {
        "colab": {
          "base_uri": "https://localhost:8080/"
        },
        "id": "97JEvtkUE9ku",
        "outputId": "6ce7c9a1-2b93-4d1f-f7ce-4e9fd208bd0d"
      },
      "outputs": [
        {
          "output_type": "execute_result",
          "data": {
            "text/plain": [
              "{'base_estimator__min_samples_leaf': 7,\n",
              " 'learning_rate': 1.0,\n",
              " 'n_estimators': 10}"
            ]
          },
          "metadata": {},
          "execution_count": 82
        }
      ],
      "source": [
        "  clf.best_params_"
      ]
    },
    {
      "cell_type": "code",
      "execution_count": null,
      "metadata": {
        "colab": {
          "base_uri": "https://localhost:8080/"
        },
        "id": "H8PJwdAesv9k",
        "outputId": "7e0ecf4e-48f7-4966-cd89-b436efa02643"
      },
      "outputs": [
        {
          "output_type": "stream",
          "name": "stdout",
          "text": [
            "[[1063  482]\n",
            " [ 358 1721]]\n",
            "0.7682119205298014\n",
            "              precision    recall  f1-score   support\n",
            "\n",
            "           0       0.75      0.69      0.72      1545\n",
            "           1       0.78      0.83      0.80      2079\n",
            "\n",
            "    accuracy                           0.77      3624\n",
            "   macro avg       0.76      0.76      0.76      3624\n",
            "weighted avg       0.77      0.77      0.77      3624\n",
            "\n"
          ]
        }
      ],
      "source": [
        "y_pred = clf.predict(X_test)\n",
        "from sklearn.metrics import confusion_matrix,classification_report,accuracy_score\n",
        "print(confusion_matrix(y_test,y_pred))\n",
        "print(accuracy_score(y_test,y_pred))\n",
        "print(classification_report(y_test,y_pred))\n"
      ]
    },
    {
      "cell_type": "code",
      "source": [
        ""
      ],
      "metadata": {
        "id": "mfoYgISLZURc"
      },
      "execution_count": null,
      "outputs": []
    }
  ],
  "metadata": {
    "accelerator": "GPU",
    "colab": {
      "background_execution": "on",
      "collapsed_sections": [
        "sDQ54HfP1Fig",
        "vtnIcoUT0c7G",
        "p_gEgg6MbU2m",
        "eJ5HGDQS4uez",
        "Nb47OnKfblSa",
        "Y4vJKxgLfJdL",
        "u4RYKo0celdf",
        "oMk7OWGqrhRU",
        "hKlbm4trcNLP",
        "QKg3Vtwg0kF_",
        "MyGPiwQpVA7m",
        "9V-mb53LGQqb"
      ],
      "machine_shape": "hm",
      "name": "CE888(Preprocessing & Prediction).ipynb",
      "provenance": []
    },
    "gpuClass": "standard",
    "kernelspec": {
      "display_name": "Python 3",
      "name": "python3"
    },
    "language_info": {
      "name": "python"
    }
  },
  "nbformat": 4,
  "nbformat_minor": 0
}
