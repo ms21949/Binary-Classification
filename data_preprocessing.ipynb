{
  "cells": [
    {
      "cell_type": "markdown",
      "metadata": {
        "id": "view-in-github",
        "colab_type": "text"
      },
      "source": [
        "<a href=\"https://colab.research.google.com/github/MadhavSharma-1/CE888-In-vehicle-coupon-recommendation-/blob/main/data_preprocessing.ipynb\" target=\"_parent\"><img src=\"https://colab.research.google.com/assets/colab-badge.svg\" alt=\"Open In Colab\"/></a>"
      ]
    },
    {
      "cell_type": "markdown",
      "metadata": {
        "id": "sDQ54HfP1Fig"
      },
      "source": [
        "## **Importing Packages**"
      ]
    },
    {
      "cell_type": "code",
      "execution_count": 1,
      "metadata": {
        "colab": {
          "base_uri": "https://localhost:8080/",
          "height": 382
        },
        "id": "LRdWxRkOz7tn",
        "outputId": "74077cb6-d69a-486b-f178-4d0f4c051812"
      },
      "outputs": [
        {
          "output_type": "execute_result",
          "data": {
            "text/plain": [
              "       destination  passanger weather  temperature  time  \\\n",
              "0  No Urgent Place      Alone   Sunny           55   2PM   \n",
              "1  No Urgent Place  Friend(s)   Sunny           80  10AM   \n",
              "2  No Urgent Place  Friend(s)   Sunny           80  10AM   \n",
              "3  No Urgent Place  Friend(s)   Sunny           80   2PM   \n",
              "4  No Urgent Place  Friend(s)   Sunny           80   2PM   \n",
              "\n",
              "                  coupon expiration  gender age      maritalStatus  ...  \\\n",
              "0        Restaurant(<20)         1d  Female  21  Unmarried partner  ...   \n",
              "1           Coffee House         2h  Female  21  Unmarried partner  ...   \n",
              "2  Carry out & Take away         2h  Female  21  Unmarried partner  ...   \n",
              "3           Coffee House         2h  Female  21  Unmarried partner  ...   \n",
              "4           Coffee House         1d  Female  21  Unmarried partner  ...   \n",
              "\n",
              "   CoffeeHouse CarryAway RestaurantLessThan20 Restaurant20To50  \\\n",
              "0        never       NaN                  4~8              1~3   \n",
              "1        never       NaN                  4~8              1~3   \n",
              "2        never       NaN                  4~8              1~3   \n",
              "3        never       NaN                  4~8              1~3   \n",
              "4        never       NaN                  4~8              1~3   \n",
              "\n",
              "  toCoupon_GEQ5min toCoupon_GEQ15min toCoupon_GEQ25min direction_same  \\\n",
              "0                1                 0                 0              0   \n",
              "1                1                 0                 0              0   \n",
              "2                1                 1                 0              0   \n",
              "3                1                 1                 0              0   \n",
              "4                1                 1                 0              0   \n",
              "\n",
              "  direction_opp  Y  \n",
              "0             1  1  \n",
              "1             1  0  \n",
              "2             1  1  \n",
              "3             1  0  \n",
              "4             1  0  \n",
              "\n",
              "[5 rows x 26 columns]"
            ],
            "text/html": [
              "\n",
              "  <div id=\"df-ce936416-f039-4fcd-ada1-9f051026a57e\">\n",
              "    <div class=\"colab-df-container\">\n",
              "      <div>\n",
              "<style scoped>\n",
              "    .dataframe tbody tr th:only-of-type {\n",
              "        vertical-align: middle;\n",
              "    }\n",
              "\n",
              "    .dataframe tbody tr th {\n",
              "        vertical-align: top;\n",
              "    }\n",
              "\n",
              "    .dataframe thead th {\n",
              "        text-align: right;\n",
              "    }\n",
              "</style>\n",
              "<table border=\"1\" class=\"dataframe\">\n",
              "  <thead>\n",
              "    <tr style=\"text-align: right;\">\n",
              "      <th></th>\n",
              "      <th>destination</th>\n",
              "      <th>passanger</th>\n",
              "      <th>weather</th>\n",
              "      <th>temperature</th>\n",
              "      <th>time</th>\n",
              "      <th>coupon</th>\n",
              "      <th>expiration</th>\n",
              "      <th>gender</th>\n",
              "      <th>age</th>\n",
              "      <th>maritalStatus</th>\n",
              "      <th>...</th>\n",
              "      <th>CoffeeHouse</th>\n",
              "      <th>CarryAway</th>\n",
              "      <th>RestaurantLessThan20</th>\n",
              "      <th>Restaurant20To50</th>\n",
              "      <th>toCoupon_GEQ5min</th>\n",
              "      <th>toCoupon_GEQ15min</th>\n",
              "      <th>toCoupon_GEQ25min</th>\n",
              "      <th>direction_same</th>\n",
              "      <th>direction_opp</th>\n",
              "      <th>Y</th>\n",
              "    </tr>\n",
              "  </thead>\n",
              "  <tbody>\n",
              "    <tr>\n",
              "      <th>0</th>\n",
              "      <td>No Urgent Place</td>\n",
              "      <td>Alone</td>\n",
              "      <td>Sunny</td>\n",
              "      <td>55</td>\n",
              "      <td>2PM</td>\n",
              "      <td>Restaurant(&lt;20)</td>\n",
              "      <td>1d</td>\n",
              "      <td>Female</td>\n",
              "      <td>21</td>\n",
              "      <td>Unmarried partner</td>\n",
              "      <td>...</td>\n",
              "      <td>never</td>\n",
              "      <td>NaN</td>\n",
              "      <td>4~8</td>\n",
              "      <td>1~3</td>\n",
              "      <td>1</td>\n",
              "      <td>0</td>\n",
              "      <td>0</td>\n",
              "      <td>0</td>\n",
              "      <td>1</td>\n",
              "      <td>1</td>\n",
              "    </tr>\n",
              "    <tr>\n",
              "      <th>1</th>\n",
              "      <td>No Urgent Place</td>\n",
              "      <td>Friend(s)</td>\n",
              "      <td>Sunny</td>\n",
              "      <td>80</td>\n",
              "      <td>10AM</td>\n",
              "      <td>Coffee House</td>\n",
              "      <td>2h</td>\n",
              "      <td>Female</td>\n",
              "      <td>21</td>\n",
              "      <td>Unmarried partner</td>\n",
              "      <td>...</td>\n",
              "      <td>never</td>\n",
              "      <td>NaN</td>\n",
              "      <td>4~8</td>\n",
              "      <td>1~3</td>\n",
              "      <td>1</td>\n",
              "      <td>0</td>\n",
              "      <td>0</td>\n",
              "      <td>0</td>\n",
              "      <td>1</td>\n",
              "      <td>0</td>\n",
              "    </tr>\n",
              "    <tr>\n",
              "      <th>2</th>\n",
              "      <td>No Urgent Place</td>\n",
              "      <td>Friend(s)</td>\n",
              "      <td>Sunny</td>\n",
              "      <td>80</td>\n",
              "      <td>10AM</td>\n",
              "      <td>Carry out &amp; Take away</td>\n",
              "      <td>2h</td>\n",
              "      <td>Female</td>\n",
              "      <td>21</td>\n",
              "      <td>Unmarried partner</td>\n",
              "      <td>...</td>\n",
              "      <td>never</td>\n",
              "      <td>NaN</td>\n",
              "      <td>4~8</td>\n",
              "      <td>1~3</td>\n",
              "      <td>1</td>\n",
              "      <td>1</td>\n",
              "      <td>0</td>\n",
              "      <td>0</td>\n",
              "      <td>1</td>\n",
              "      <td>1</td>\n",
              "    </tr>\n",
              "    <tr>\n",
              "      <th>3</th>\n",
              "      <td>No Urgent Place</td>\n",
              "      <td>Friend(s)</td>\n",
              "      <td>Sunny</td>\n",
              "      <td>80</td>\n",
              "      <td>2PM</td>\n",
              "      <td>Coffee House</td>\n",
              "      <td>2h</td>\n",
              "      <td>Female</td>\n",
              "      <td>21</td>\n",
              "      <td>Unmarried partner</td>\n",
              "      <td>...</td>\n",
              "      <td>never</td>\n",
              "      <td>NaN</td>\n",
              "      <td>4~8</td>\n",
              "      <td>1~3</td>\n",
              "      <td>1</td>\n",
              "      <td>1</td>\n",
              "      <td>0</td>\n",
              "      <td>0</td>\n",
              "      <td>1</td>\n",
              "      <td>0</td>\n",
              "    </tr>\n",
              "    <tr>\n",
              "      <th>4</th>\n",
              "      <td>No Urgent Place</td>\n",
              "      <td>Friend(s)</td>\n",
              "      <td>Sunny</td>\n",
              "      <td>80</td>\n",
              "      <td>2PM</td>\n",
              "      <td>Coffee House</td>\n",
              "      <td>1d</td>\n",
              "      <td>Female</td>\n",
              "      <td>21</td>\n",
              "      <td>Unmarried partner</td>\n",
              "      <td>...</td>\n",
              "      <td>never</td>\n",
              "      <td>NaN</td>\n",
              "      <td>4~8</td>\n",
              "      <td>1~3</td>\n",
              "      <td>1</td>\n",
              "      <td>1</td>\n",
              "      <td>0</td>\n",
              "      <td>0</td>\n",
              "      <td>1</td>\n",
              "      <td>0</td>\n",
              "    </tr>\n",
              "  </tbody>\n",
              "</table>\n",
              "<p>5 rows × 26 columns</p>\n",
              "</div>\n",
              "      <button class=\"colab-df-convert\" onclick=\"convertToInteractive('df-ce936416-f039-4fcd-ada1-9f051026a57e')\"\n",
              "              title=\"Convert this dataframe to an interactive table.\"\n",
              "              style=\"display:none;\">\n",
              "        \n",
              "  <svg xmlns=\"http://www.w3.org/2000/svg\" height=\"24px\"viewBox=\"0 0 24 24\"\n",
              "       width=\"24px\">\n",
              "    <path d=\"M0 0h24v24H0V0z\" fill=\"none\"/>\n",
              "    <path d=\"M18.56 5.44l.94 2.06.94-2.06 2.06-.94-2.06-.94-.94-2.06-.94 2.06-2.06.94zm-11 1L8.5 8.5l.94-2.06 2.06-.94-2.06-.94L8.5 2.5l-.94 2.06-2.06.94zm10 10l.94 2.06.94-2.06 2.06-.94-2.06-.94-.94-2.06-.94 2.06-2.06.94z\"/><path d=\"M17.41 7.96l-1.37-1.37c-.4-.4-.92-.59-1.43-.59-.52 0-1.04.2-1.43.59L10.3 9.45l-7.72 7.72c-.78.78-.78 2.05 0 2.83L4 21.41c.39.39.9.59 1.41.59.51 0 1.02-.2 1.41-.59l7.78-7.78 2.81-2.81c.8-.78.8-2.07 0-2.86zM5.41 20L4 18.59l7.72-7.72 1.47 1.35L5.41 20z\"/>\n",
              "  </svg>\n",
              "      </button>\n",
              "      \n",
              "  <style>\n",
              "    .colab-df-container {\n",
              "      display:flex;\n",
              "      flex-wrap:wrap;\n",
              "      gap: 12px;\n",
              "    }\n",
              "\n",
              "    .colab-df-convert {\n",
              "      background-color: #E8F0FE;\n",
              "      border: none;\n",
              "      border-radius: 50%;\n",
              "      cursor: pointer;\n",
              "      display: none;\n",
              "      fill: #1967D2;\n",
              "      height: 32px;\n",
              "      padding: 0 0 0 0;\n",
              "      width: 32px;\n",
              "    }\n",
              "\n",
              "    .colab-df-convert:hover {\n",
              "      background-color: #E2EBFA;\n",
              "      box-shadow: 0px 1px 2px rgba(60, 64, 67, 0.3), 0px 1px 3px 1px rgba(60, 64, 67, 0.15);\n",
              "      fill: #174EA6;\n",
              "    }\n",
              "\n",
              "    [theme=dark] .colab-df-convert {\n",
              "      background-color: #3B4455;\n",
              "      fill: #D2E3FC;\n",
              "    }\n",
              "\n",
              "    [theme=dark] .colab-df-convert:hover {\n",
              "      background-color: #434B5C;\n",
              "      box-shadow: 0px 1px 3px 1px rgba(0, 0, 0, 0.15);\n",
              "      filter: drop-shadow(0px 1px 2px rgba(0, 0, 0, 0.3));\n",
              "      fill: #FFFFFF;\n",
              "    }\n",
              "  </style>\n",
              "\n",
              "      <script>\n",
              "        const buttonEl =\n",
              "          document.querySelector('#df-ce936416-f039-4fcd-ada1-9f051026a57e button.colab-df-convert');\n",
              "        buttonEl.style.display =\n",
              "          google.colab.kernel.accessAllowed ? 'block' : 'none';\n",
              "\n",
              "        async function convertToInteractive(key) {\n",
              "          const element = document.querySelector('#df-ce936416-f039-4fcd-ada1-9f051026a57e');\n",
              "          const dataTable =\n",
              "            await google.colab.kernel.invokeFunction('convertToInteractive',\n",
              "                                                     [key], {});\n",
              "          if (!dataTable) return;\n",
              "\n",
              "          const docLinkHtml = 'Like what you see? Visit the ' +\n",
              "            '<a target=\"_blank\" href=https://colab.research.google.com/notebooks/data_table.ipynb>data table notebook</a>'\n",
              "            + ' to learn more about interactive tables.';\n",
              "          element.innerHTML = '';\n",
              "          dataTable['output_type'] = 'display_data';\n",
              "          await google.colab.output.renderOutput(dataTable, element);\n",
              "          const docLink = document.createElement('div');\n",
              "          docLink.innerHTML = docLinkHtml;\n",
              "          element.appendChild(docLink);\n",
              "        }\n",
              "      </script>\n",
              "    </div>\n",
              "  </div>\n",
              "  "
            ]
          },
          "metadata": {},
          "execution_count": 1
        }
      ],
      "source": [
        "import pandas as pd\n",
        "import numpy as np\n",
        "from sklearn.preprocessing import LabelEncoder\n",
        "\n",
        "df = pd.read_csv('in-vehicle-coupon-recommendation.csv')\n",
        "df.head()"
      ]
    },
    {
      "cell_type": "code",
      "execution_count": 2,
      "metadata": {
        "colab": {
          "base_uri": "https://localhost:8080/"
        },
        "id": "5s12ZhK90HCs",
        "outputId": "5e7886e9-66d4-4808-de2f-8ee0fecd1c43"
      },
      "outputs": [
        {
          "output_type": "stream",
          "name": "stdout",
          "text": [
            "<class 'pandas.core.frame.DataFrame'>\n",
            "RangeIndex: 12684 entries, 0 to 12683\n",
            "Data columns (total 26 columns):\n",
            " #   Column                Non-Null Count  Dtype \n",
            "---  ------                --------------  ----- \n",
            " 0   destination           12684 non-null  object\n",
            " 1   passanger             12684 non-null  object\n",
            " 2   weather               12684 non-null  object\n",
            " 3   temperature           12684 non-null  int64 \n",
            " 4   time                  12684 non-null  object\n",
            " 5   coupon                12684 non-null  object\n",
            " 6   expiration            12684 non-null  object\n",
            " 7   gender                12684 non-null  object\n",
            " 8   age                   12684 non-null  object\n",
            " 9   maritalStatus         12684 non-null  object\n",
            " 10  has_children          12684 non-null  int64 \n",
            " 11  education             12684 non-null  object\n",
            " 12  occupation            12684 non-null  object\n",
            " 13  income                12684 non-null  object\n",
            " 14  car                   108 non-null    object\n",
            " 15  Bar                   12577 non-null  object\n",
            " 16  CoffeeHouse           12467 non-null  object\n",
            " 17  CarryAway             12533 non-null  object\n",
            " 18  RestaurantLessThan20  12554 non-null  object\n",
            " 19  Restaurant20To50      12495 non-null  object\n",
            " 20  toCoupon_GEQ5min      12684 non-null  int64 \n",
            " 21  toCoupon_GEQ15min     12684 non-null  int64 \n",
            " 22  toCoupon_GEQ25min     12684 non-null  int64 \n",
            " 23  direction_same        12684 non-null  int64 \n",
            " 24  direction_opp         12684 non-null  int64 \n",
            " 25  Y                     12684 non-null  int64 \n",
            "dtypes: int64(8), object(18)\n",
            "memory usage: 2.5+ MB\n"
          ]
        }
      ],
      "source": [
        "df.info()"
      ]
    },
    {
      "cell_type": "code",
      "execution_count": 3,
      "metadata": {
        "colab": {
          "base_uri": "https://localhost:8080/"
        },
        "id": "wrVV0E4O0SG-",
        "outputId": "760a8cef-6d1b-4eb8-8370-7cbfa6665b48"
      },
      "outputs": [
        {
          "output_type": "execute_result",
          "data": {
            "text/plain": [
              "destination              3\n",
              "passanger                4\n",
              "weather                  3\n",
              "temperature              3\n",
              "time                     5\n",
              "coupon                   5\n",
              "expiration               2\n",
              "gender                   2\n",
              "age                      8\n",
              "maritalStatus            5\n",
              "has_children             2\n",
              "education                6\n",
              "occupation              25\n",
              "income                   9\n",
              "car                      5\n",
              "Bar                      5\n",
              "CoffeeHouse              5\n",
              "CarryAway                5\n",
              "RestaurantLessThan20     5\n",
              "Restaurant20To50         5\n",
              "toCoupon_GEQ5min         1\n",
              "toCoupon_GEQ15min        2\n",
              "toCoupon_GEQ25min        2\n",
              "direction_same           2\n",
              "direction_opp            2\n",
              "Y                        2\n",
              "dtype: int64"
            ]
          },
          "metadata": {},
          "execution_count": 3
        }
      ],
      "source": [
        "df.nunique()"
      ]
    },
    {
      "cell_type": "code",
      "execution_count": null,
      "metadata": {
        "colab": {
          "base_uri": "https://localhost:8080/"
        },
        "id": "tOmf4HVJ0Trj",
        "outputId": "c9fab88d-52dd-4bcb-fd08-f4f8350a37ca"
      },
      "outputs": [
        {
          "output_type": "execute_result",
          "data": {
            "text/plain": [
              "(12684, 26)"
            ]
          },
          "metadata": {},
          "execution_count": 106
        }
      ],
      "source": [
        "df.shape"
      ]
    },
    {
      "cell_type": "code",
      "execution_count": null,
      "metadata": {
        "colab": {
          "base_uri": "https://localhost:8080/"
        },
        "id": "AbUC2NH50WxU",
        "outputId": "7e1ea4fd-3f4e-4ca8-eb0c-720ccbff08eb"
      },
      "outputs": [
        {
          "output_type": "execute_result",
          "data": {
            "text/plain": [
              "destination                 0\n",
              "passanger                   0\n",
              "weather                     0\n",
              "temperature                 0\n",
              "time                        0\n",
              "coupon                      0\n",
              "expiration                  0\n",
              "gender                      0\n",
              "age                         0\n",
              "maritalStatus               0\n",
              "has_children                0\n",
              "education                   0\n",
              "occupation                  0\n",
              "income                      0\n",
              "car                     12576\n",
              "Bar                       107\n",
              "CoffeeHouse               217\n",
              "CarryAway                 151\n",
              "RestaurantLessThan20      130\n",
              "Restaurant20To50          189\n",
              "toCoupon_GEQ5min            0\n",
              "toCoupon_GEQ15min           0\n",
              "toCoupon_GEQ25min           0\n",
              "direction_same              0\n",
              "direction_opp               0\n",
              "Y                           0\n",
              "dtype: int64"
            ]
          },
          "metadata": {},
          "execution_count": 107
        }
      ],
      "source": [
        "df.isnull().sum()"
      ]
    },
    {
      "cell_type": "markdown",
      "metadata": {
        "id": "vtnIcoUT0c7G"
      },
      "source": [
        "## **Dropping un-necessary columns**"
      ]
    },
    {
      "cell_type": "code",
      "execution_count": 4,
      "metadata": {
        "id": "WTLH8eaN0Zr_"
      },
      "outputs": [],
      "source": [
        "df = df.drop(['car','direction_opp'], axis=1)"
      ]
    },
    {
      "cell_type": "markdown",
      "metadata": {
        "id": "p_gEgg6MbU2m"
      },
      "source": [
        "##**Encoding gender & Renaming direction_same to direction**"
      ]
    },
    {
      "cell_type": "code",
      "execution_count": 5,
      "metadata": {
        "colab": {
          "base_uri": "https://localhost:8080/"
        },
        "id": "6EiDT4W_0_sc",
        "outputId": "401fa322-85ab-4817-faa9-4afab5028c2d"
      },
      "outputs": [
        {
          "output_type": "stream",
          "name": "stderr",
          "text": [
            "/usr/local/lib/python3.7/dist-packages/ipykernel_launcher.py:7: SettingWithCopyWarning: \n",
            "A value is trying to be set on a copy of a slice from a DataFrame.\n",
            "Try using .loc[row_indexer,col_indexer] = value instead\n",
            "\n",
            "See the caveats in the documentation: https://pandas.pydata.org/pandas-docs/stable/user_guide/indexing.html#returning-a-view-versus-a-copy\n",
            "  import sys\n"
          ]
        }
      ],
      "source": [
        "## Grouping similar type of data \n",
        "\n",
        "binary_attributes = df[['gender','has_children','direction_same']]\n",
        "\n",
        "#Encoding gender (Male : 1, Female : 0)\n",
        "lb = LabelEncoder()\n",
        "binary_attributes['gender'] = lb.fit_transform(binary_attributes['gender'])\n",
        "\n",
        "#Renaming direction_same column as direction (Same : 1, Opposite : 0)\n",
        "binary_attributes = binary_attributes.rename(columns={'direction_same' : 'direction'})\n",
        "\n"
      ]
    },
    {
      "cell_type": "markdown",
      "metadata": {
        "id": "eJ5HGDQS4uez"
      },
      "source": [
        "##**Encoding Ordinal attributes**"
      ]
    },
    {
      "cell_type": "code",
      "execution_count": 6,
      "metadata": {
        "id": "0m1tF5wD-Svt"
      },
      "outputs": [],
      "source": [
        "ordinal_attributes = df[['income','education','age','time','expiration']]\n",
        "\n",
        "def ordinal_encoding(x, order_list):\n",
        "    ordinal_attributes[x] = ordinal_attributes[x].astype('category')\n",
        "    ordinal_attributes[x] = ordinal_attributes[x].cat.reorder_categories(\n",
        "        new_categories=order_list,\n",
        "        ordered=True\n",
        "    )\n",
        "\n",
        "    return pd.Series(ordinal_attributes[x].cat.codes, name=x)"
      ]
    },
    {
      "cell_type": "code",
      "execution_count": 7,
      "metadata": {
        "colab": {
          "base_uri": "https://localhost:8080/"
        },
        "id": "aPu-EMVI9NI6",
        "outputId": "900c6497-d753-4910-dd20-ef2b0bee6654"
      },
      "outputs": [
        {
          "output_type": "execute_result",
          "data": {
            "text/plain": [
              "array(['$37500 - $49999', '$62500 - $74999', '$12500 - $24999',\n",
              "       '$75000 - $87499', '$50000 - $62499', '$25000 - $37499',\n",
              "       '$100000 or More', '$87500 - $99999', 'Less than $12500'],\n",
              "      dtype=object)"
            ]
          },
          "metadata": {},
          "execution_count": 7
        }
      ],
      "source": [
        "ordinal_attributes['income'].unique()\n"
      ]
    },
    {
      "cell_type": "code",
      "execution_count": 8,
      "metadata": {
        "colab": {
          "base_uri": "https://localhost:8080/"
        },
        "id": "QzSwB_fz-TSI",
        "outputId": "0f60e1f9-aa87-4a02-af11-7e4a803e9f9d"
      },
      "outputs": [
        {
          "output_type": "execute_result",
          "data": {
            "text/plain": [
              "array(['Some college - no degree', 'Bachelors degree',\n",
              "       'Associates degree', 'High School Graduate',\n",
              "       'Graduate degree (Masters or Doctorate)', 'Some High School'],\n",
              "      dtype=object)"
            ]
          },
          "metadata": {},
          "execution_count": 8
        }
      ],
      "source": [
        "ordinal_attributes['education'].unique()\n"
      ]
    },
    {
      "cell_type": "code",
      "execution_count": 9,
      "metadata": {
        "colab": {
          "base_uri": "https://localhost:8080/"
        },
        "id": "d2ht_0P8-TKs",
        "outputId": "b29fa988-3638-4659-e3fb-b5c6e7666ec9"
      },
      "outputs": [
        {
          "output_type": "execute_result",
          "data": {
            "text/plain": [
              "array(['2PM', '10AM', '6PM', '7AM', '10PM'], dtype=object)"
            ]
          },
          "metadata": {},
          "execution_count": 9
        }
      ],
      "source": [
        "ordinal_attributes['time'].unique()\n"
      ]
    },
    {
      "cell_type": "code",
      "execution_count": 10,
      "metadata": {
        "colab": {
          "base_uri": "https://localhost:8080/"
        },
        "id": "eJ3gbGuZ-TCR",
        "outputId": "c5ac9a61-f1cb-4ada-8bb6-2c941d440e9d"
      },
      "outputs": [
        {
          "output_type": "execute_result",
          "data": {
            "text/plain": [
              "array(['21', '46', '26', '31', '41', '50plus', '36', 'below21'],\n",
              "      dtype=object)"
            ]
          },
          "metadata": {},
          "execution_count": 10
        }
      ],
      "source": [
        "ordinal_attributes['age'].unique()\n"
      ]
    },
    {
      "cell_type": "code",
      "execution_count": 11,
      "metadata": {
        "colab": {
          "base_uri": "https://localhost:8080/"
        },
        "id": "c7C1MblU-S6d",
        "outputId": "c0ecadee-00ed-462f-9405-c93604c731b5"
      },
      "outputs": [
        {
          "output_type": "execute_result",
          "data": {
            "text/plain": [
              "array(['1d', '2h'], dtype=object)"
            ]
          },
          "metadata": {},
          "execution_count": 11
        }
      ],
      "source": [
        "ordinal_attributes['expiration'].unique()"
      ]
    },
    {
      "cell_type": "code",
      "execution_count": 12,
      "metadata": {
        "id": "f2BOtSIsGLk7"
      },
      "outputs": [],
      "source": [
        "ordinal_attributes = ordinal_attributes.dropna()"
      ]
    },
    {
      "cell_type": "code",
      "execution_count": 13,
      "metadata": {
        "id": "tfaVAipr2ElH"
      },
      "outputs": [],
      "source": [
        "Income = ['Less than $12500', '$12500 - $24999', '$25000 - $37499', '$37500 - $49999', '$50000 - $62499', '$62500 - $74999', '$75000 - $87499', '$87500 - $99999', '$100000 or More']\n",
        "Education = ['Some High School','High School Graduate', 'Some college - no degree', 'Associates degree', 'Bachelors degree', 'Graduate degree (Masters or Doctorate)']\n",
        "Age = ['below21', '21', '26', '31', '36', '41', '46', '50plus']\n",
        "Time = ['7AM', '10AM', '2PM', '6PM', '10PM']\n",
        "Expiration = ['2h', '1d']\n",
        "\n",
        "\n",
        "Income= ordinal_encoding('income', Income)\n",
        "Education = ordinal_encoding('education', Education)\n",
        "Age = ordinal_encoding('age', Age)\n",
        "Time = ordinal_encoding('time', Time)\n",
        "Expiration = ordinal_encoding('expiration', Expiration)"
      ]
    },
    {
      "cell_type": "code",
      "execution_count": 14,
      "metadata": {
        "colab": {
          "base_uri": "https://localhost:8080/"
        },
        "id": "HocGM-kd5muw",
        "outputId": "0fb8dc53-7cf0-43ba-e480-edba92ce53eb"
      },
      "outputs": [
        {
          "output_type": "stream",
          "name": "stderr",
          "text": [
            "/usr/local/lib/python3.7/dist-packages/ipykernel_launcher.py:6: SettingWithCopyWarning: \n",
            "A value is trying to be set on a copy of a slice from a DataFrame.\n",
            "Try using .loc[row_indexer,col_indexer] = value instead\n",
            "\n",
            "See the caveats in the documentation: https://pandas.pydata.org/pandas-docs/stable/user_guide/indexing.html#returning-a-view-versus-a-copy\n",
            "  \n"
          ]
        }
      ],
      "source": [
        "#Reordering for encoding\n",
        "P = df[['Bar','CoffeeHouse','CarryAway','RestaurantLessThan20','Restaurant20To50']]\n",
        "\n",
        "p_order = {'never': 0, 'less1': 1,'1~3': 2, '4~8': 3, 'gt8': 4}\n",
        "for col in P:\n",
        "    P[col] = P[col].map(p_order, na_action='ignore')"
      ]
    },
    {
      "cell_type": "code",
      "execution_count": 15,
      "metadata": {
        "id": "ESFLOiDC5vwo"
      },
      "outputs": [],
      "source": [
        "P = P.dropna()"
      ]
    },
    {
      "cell_type": "markdown",
      "metadata": {
        "id": "Nb47OnKfblSa"
      },
      "source": [
        "##Encoding sets of Nominal attributes"
      ]
    },
    {
      "cell_type": "code",
      "execution_count": 16,
      "metadata": {
        "id": "UOFuwjApdgry"
      },
      "outputs": [],
      "source": [
        "Q = df[['destination', 'passanger', 'weather', 'coupon', 'maritalStatus', 'occupation']]\n",
        "Q = pd.get_dummies(Q)"
      ]
    },
    {
      "cell_type": "code",
      "execution_count": 17,
      "metadata": {
        "colab": {
          "base_uri": "https://localhost:8080/",
          "height": 517
        },
        "id": "_GnU_9QWeCGv",
        "outputId": "eac4ab0a-8d4b-4fb9-e3ca-5b8696df8fa4"
      },
      "outputs": [
        {
          "output_type": "execute_result",
          "data": {
            "text/plain": [
              "       destination_Home  destination_No Urgent Place  destination_Work  \\\n",
              "0                     0                            1                 0   \n",
              "1                     0                            1                 0   \n",
              "2                     0                            1                 0   \n",
              "3                     0                            1                 0   \n",
              "4                     0                            1                 0   \n",
              "...                 ...                          ...               ...   \n",
              "12679                 1                            0                 0   \n",
              "12680                 0                            0                 1   \n",
              "12681                 0                            0                 1   \n",
              "12682                 0                            0                 1   \n",
              "12683                 0                            0                 1   \n",
              "\n",
              "       passanger_Alone  passanger_Friend(s)  passanger_Kid(s)  \\\n",
              "0                    1                    0                 0   \n",
              "1                    0                    1                 0   \n",
              "2                    0                    1                 0   \n",
              "3                    0                    1                 0   \n",
              "4                    0                    1                 0   \n",
              "...                ...                  ...               ...   \n",
              "12679                0                    0                 0   \n",
              "12680                1                    0                 0   \n",
              "12681                1                    0                 0   \n",
              "12682                1                    0                 0   \n",
              "12683                1                    0                 0   \n",
              "\n",
              "       passanger_Partner  weather_Rainy  weather_Snowy  weather_Sunny  ...  \\\n",
              "0                      0              0              0              1  ...   \n",
              "1                      0              0              0              1  ...   \n",
              "2                      0              0              0              1  ...   \n",
              "3                      0              0              0              1  ...   \n",
              "4                      0              0              0              1  ...   \n",
              "...                  ...            ...            ...            ...  ...   \n",
              "12679                  1              1              0              0  ...   \n",
              "12680                  0              1              0              0  ...   \n",
              "12681                  0              0              1              0  ...   \n",
              "12682                  0              0              1              0  ...   \n",
              "12683                  0              0              0              1  ...   \n",
              "\n",
              "       occupation_Management  occupation_Office & Administrative Support  \\\n",
              "0                          0                                           0   \n",
              "1                          0                                           0   \n",
              "2                          0                                           0   \n",
              "3                          0                                           0   \n",
              "4                          0                                           0   \n",
              "...                      ...                                         ...   \n",
              "12679                      0                                           0   \n",
              "12680                      0                                           0   \n",
              "12681                      0                                           0   \n",
              "12682                      0                                           0   \n",
              "12683                      0                                           0   \n",
              "\n",
              "       occupation_Personal Care & Service  occupation_Production Occupations  \\\n",
              "0                                       0                                  0   \n",
              "1                                       0                                  0   \n",
              "2                                       0                                  0   \n",
              "3                                       0                                  0   \n",
              "4                                       0                                  0   \n",
              "...                                   ...                                ...   \n",
              "12679                                   0                                  0   \n",
              "12680                                   0                                  0   \n",
              "12681                                   0                                  0   \n",
              "12682                                   0                                  0   \n",
              "12683                                   0                                  0   \n",
              "\n",
              "       occupation_Protective Service  occupation_Retired  \\\n",
              "0                                  0                   0   \n",
              "1                                  0                   0   \n",
              "2                                  0                   0   \n",
              "3                                  0                   0   \n",
              "4                                  0                   0   \n",
              "...                              ...                 ...   \n",
              "12679                              0                   0   \n",
              "12680                              0                   0   \n",
              "12681                              0                   0   \n",
              "12682                              0                   0   \n",
              "12683                              0                   0   \n",
              "\n",
              "       occupation_Sales & Related  occupation_Student  \\\n",
              "0                               0                   0   \n",
              "1                               0                   0   \n",
              "2                               0                   0   \n",
              "3                               0                   0   \n",
              "4                               0                   0   \n",
              "...                           ...                 ...   \n",
              "12679                           1                   0   \n",
              "12680                           1                   0   \n",
              "12681                           1                   0   \n",
              "12682                           1                   0   \n",
              "12683                           1                   0   \n",
              "\n",
              "       occupation_Transportation & Material Moving  occupation_Unemployed  \n",
              "0                                                0                      1  \n",
              "1                                                0                      1  \n",
              "2                                                0                      1  \n",
              "3                                                0                      1  \n",
              "4                                                0                      1  \n",
              "...                                            ...                    ...  \n",
              "12679                                            0                      0  \n",
              "12680                                            0                      0  \n",
              "12681                                            0                      0  \n",
              "12682                                            0                      0  \n",
              "12683                                            0                      0  \n",
              "\n",
              "[12684 rows x 45 columns]"
            ],
            "text/html": [
              "\n",
              "  <div id=\"df-b3f6d860-14e8-40e3-b8d2-8bac5001aa51\">\n",
              "    <div class=\"colab-df-container\">\n",
              "      <div>\n",
              "<style scoped>\n",
              "    .dataframe tbody tr th:only-of-type {\n",
              "        vertical-align: middle;\n",
              "    }\n",
              "\n",
              "    .dataframe tbody tr th {\n",
              "        vertical-align: top;\n",
              "    }\n",
              "\n",
              "    .dataframe thead th {\n",
              "        text-align: right;\n",
              "    }\n",
              "</style>\n",
              "<table border=\"1\" class=\"dataframe\">\n",
              "  <thead>\n",
              "    <tr style=\"text-align: right;\">\n",
              "      <th></th>\n",
              "      <th>destination_Home</th>\n",
              "      <th>destination_No Urgent Place</th>\n",
              "      <th>destination_Work</th>\n",
              "      <th>passanger_Alone</th>\n",
              "      <th>passanger_Friend(s)</th>\n",
              "      <th>passanger_Kid(s)</th>\n",
              "      <th>passanger_Partner</th>\n",
              "      <th>weather_Rainy</th>\n",
              "      <th>weather_Snowy</th>\n",
              "      <th>weather_Sunny</th>\n",
              "      <th>...</th>\n",
              "      <th>occupation_Management</th>\n",
              "      <th>occupation_Office &amp; Administrative Support</th>\n",
              "      <th>occupation_Personal Care &amp; Service</th>\n",
              "      <th>occupation_Production Occupations</th>\n",
              "      <th>occupation_Protective Service</th>\n",
              "      <th>occupation_Retired</th>\n",
              "      <th>occupation_Sales &amp; Related</th>\n",
              "      <th>occupation_Student</th>\n",
              "      <th>occupation_Transportation &amp; Material Moving</th>\n",
              "      <th>occupation_Unemployed</th>\n",
              "    </tr>\n",
              "  </thead>\n",
              "  <tbody>\n",
              "    <tr>\n",
              "      <th>0</th>\n",
              "      <td>0</td>\n",
              "      <td>1</td>\n",
              "      <td>0</td>\n",
              "      <td>1</td>\n",
              "      <td>0</td>\n",
              "      <td>0</td>\n",
              "      <td>0</td>\n",
              "      <td>0</td>\n",
              "      <td>0</td>\n",
              "      <td>1</td>\n",
              "      <td>...</td>\n",
              "      <td>0</td>\n",
              "      <td>0</td>\n",
              "      <td>0</td>\n",
              "      <td>0</td>\n",
              "      <td>0</td>\n",
              "      <td>0</td>\n",
              "      <td>0</td>\n",
              "      <td>0</td>\n",
              "      <td>0</td>\n",
              "      <td>1</td>\n",
              "    </tr>\n",
              "    <tr>\n",
              "      <th>1</th>\n",
              "      <td>0</td>\n",
              "      <td>1</td>\n",
              "      <td>0</td>\n",
              "      <td>0</td>\n",
              "      <td>1</td>\n",
              "      <td>0</td>\n",
              "      <td>0</td>\n",
              "      <td>0</td>\n",
              "      <td>0</td>\n",
              "      <td>1</td>\n",
              "      <td>...</td>\n",
              "      <td>0</td>\n",
              "      <td>0</td>\n",
              "      <td>0</td>\n",
              "      <td>0</td>\n",
              "      <td>0</td>\n",
              "      <td>0</td>\n",
              "      <td>0</td>\n",
              "      <td>0</td>\n",
              "      <td>0</td>\n",
              "      <td>1</td>\n",
              "    </tr>\n",
              "    <tr>\n",
              "      <th>2</th>\n",
              "      <td>0</td>\n",
              "      <td>1</td>\n",
              "      <td>0</td>\n",
              "      <td>0</td>\n",
              "      <td>1</td>\n",
              "      <td>0</td>\n",
              "      <td>0</td>\n",
              "      <td>0</td>\n",
              "      <td>0</td>\n",
              "      <td>1</td>\n",
              "      <td>...</td>\n",
              "      <td>0</td>\n",
              "      <td>0</td>\n",
              "      <td>0</td>\n",
              "      <td>0</td>\n",
              "      <td>0</td>\n",
              "      <td>0</td>\n",
              "      <td>0</td>\n",
              "      <td>0</td>\n",
              "      <td>0</td>\n",
              "      <td>1</td>\n",
              "    </tr>\n",
              "    <tr>\n",
              "      <th>3</th>\n",
              "      <td>0</td>\n",
              "      <td>1</td>\n",
              "      <td>0</td>\n",
              "      <td>0</td>\n",
              "      <td>1</td>\n",
              "      <td>0</td>\n",
              "      <td>0</td>\n",
              "      <td>0</td>\n",
              "      <td>0</td>\n",
              "      <td>1</td>\n",
              "      <td>...</td>\n",
              "      <td>0</td>\n",
              "      <td>0</td>\n",
              "      <td>0</td>\n",
              "      <td>0</td>\n",
              "      <td>0</td>\n",
              "      <td>0</td>\n",
              "      <td>0</td>\n",
              "      <td>0</td>\n",
              "      <td>0</td>\n",
              "      <td>1</td>\n",
              "    </tr>\n",
              "    <tr>\n",
              "      <th>4</th>\n",
              "      <td>0</td>\n",
              "      <td>1</td>\n",
              "      <td>0</td>\n",
              "      <td>0</td>\n",
              "      <td>1</td>\n",
              "      <td>0</td>\n",
              "      <td>0</td>\n",
              "      <td>0</td>\n",
              "      <td>0</td>\n",
              "      <td>1</td>\n",
              "      <td>...</td>\n",
              "      <td>0</td>\n",
              "      <td>0</td>\n",
              "      <td>0</td>\n",
              "      <td>0</td>\n",
              "      <td>0</td>\n",
              "      <td>0</td>\n",
              "      <td>0</td>\n",
              "      <td>0</td>\n",
              "      <td>0</td>\n",
              "      <td>1</td>\n",
              "    </tr>\n",
              "    <tr>\n",
              "      <th>...</th>\n",
              "      <td>...</td>\n",
              "      <td>...</td>\n",
              "      <td>...</td>\n",
              "      <td>...</td>\n",
              "      <td>...</td>\n",
              "      <td>...</td>\n",
              "      <td>...</td>\n",
              "      <td>...</td>\n",
              "      <td>...</td>\n",
              "      <td>...</td>\n",
              "      <td>...</td>\n",
              "      <td>...</td>\n",
              "      <td>...</td>\n",
              "      <td>...</td>\n",
              "      <td>...</td>\n",
              "      <td>...</td>\n",
              "      <td>...</td>\n",
              "      <td>...</td>\n",
              "      <td>...</td>\n",
              "      <td>...</td>\n",
              "      <td>...</td>\n",
              "    </tr>\n",
              "    <tr>\n",
              "      <th>12679</th>\n",
              "      <td>1</td>\n",
              "      <td>0</td>\n",
              "      <td>0</td>\n",
              "      <td>0</td>\n",
              "      <td>0</td>\n",
              "      <td>0</td>\n",
              "      <td>1</td>\n",
              "      <td>1</td>\n",
              "      <td>0</td>\n",
              "      <td>0</td>\n",
              "      <td>...</td>\n",
              "      <td>0</td>\n",
              "      <td>0</td>\n",
              "      <td>0</td>\n",
              "      <td>0</td>\n",
              "      <td>0</td>\n",
              "      <td>0</td>\n",
              "      <td>1</td>\n",
              "      <td>0</td>\n",
              "      <td>0</td>\n",
              "      <td>0</td>\n",
              "    </tr>\n",
              "    <tr>\n",
              "      <th>12680</th>\n",
              "      <td>0</td>\n",
              "      <td>0</td>\n",
              "      <td>1</td>\n",
              "      <td>1</td>\n",
              "      <td>0</td>\n",
              "      <td>0</td>\n",
              "      <td>0</td>\n",
              "      <td>1</td>\n",
              "      <td>0</td>\n",
              "      <td>0</td>\n",
              "      <td>...</td>\n",
              "      <td>0</td>\n",
              "      <td>0</td>\n",
              "      <td>0</td>\n",
              "      <td>0</td>\n",
              "      <td>0</td>\n",
              "      <td>0</td>\n",
              "      <td>1</td>\n",
              "      <td>0</td>\n",
              "      <td>0</td>\n",
              "      <td>0</td>\n",
              "    </tr>\n",
              "    <tr>\n",
              "      <th>12681</th>\n",
              "      <td>0</td>\n",
              "      <td>0</td>\n",
              "      <td>1</td>\n",
              "      <td>1</td>\n",
              "      <td>0</td>\n",
              "      <td>0</td>\n",
              "      <td>0</td>\n",
              "      <td>0</td>\n",
              "      <td>1</td>\n",
              "      <td>0</td>\n",
              "      <td>...</td>\n",
              "      <td>0</td>\n",
              "      <td>0</td>\n",
              "      <td>0</td>\n",
              "      <td>0</td>\n",
              "      <td>0</td>\n",
              "      <td>0</td>\n",
              "      <td>1</td>\n",
              "      <td>0</td>\n",
              "      <td>0</td>\n",
              "      <td>0</td>\n",
              "    </tr>\n",
              "    <tr>\n",
              "      <th>12682</th>\n",
              "      <td>0</td>\n",
              "      <td>0</td>\n",
              "      <td>1</td>\n",
              "      <td>1</td>\n",
              "      <td>0</td>\n",
              "      <td>0</td>\n",
              "      <td>0</td>\n",
              "      <td>0</td>\n",
              "      <td>1</td>\n",
              "      <td>0</td>\n",
              "      <td>...</td>\n",
              "      <td>0</td>\n",
              "      <td>0</td>\n",
              "      <td>0</td>\n",
              "      <td>0</td>\n",
              "      <td>0</td>\n",
              "      <td>0</td>\n",
              "      <td>1</td>\n",
              "      <td>0</td>\n",
              "      <td>0</td>\n",
              "      <td>0</td>\n",
              "    </tr>\n",
              "    <tr>\n",
              "      <th>12683</th>\n",
              "      <td>0</td>\n",
              "      <td>0</td>\n",
              "      <td>1</td>\n",
              "      <td>1</td>\n",
              "      <td>0</td>\n",
              "      <td>0</td>\n",
              "      <td>0</td>\n",
              "      <td>0</td>\n",
              "      <td>0</td>\n",
              "      <td>1</td>\n",
              "      <td>...</td>\n",
              "      <td>0</td>\n",
              "      <td>0</td>\n",
              "      <td>0</td>\n",
              "      <td>0</td>\n",
              "      <td>0</td>\n",
              "      <td>0</td>\n",
              "      <td>1</td>\n",
              "      <td>0</td>\n",
              "      <td>0</td>\n",
              "      <td>0</td>\n",
              "    </tr>\n",
              "  </tbody>\n",
              "</table>\n",
              "<p>12684 rows × 45 columns</p>\n",
              "</div>\n",
              "      <button class=\"colab-df-convert\" onclick=\"convertToInteractive('df-b3f6d860-14e8-40e3-b8d2-8bac5001aa51')\"\n",
              "              title=\"Convert this dataframe to an interactive table.\"\n",
              "              style=\"display:none;\">\n",
              "        \n",
              "  <svg xmlns=\"http://www.w3.org/2000/svg\" height=\"24px\"viewBox=\"0 0 24 24\"\n",
              "       width=\"24px\">\n",
              "    <path d=\"M0 0h24v24H0V0z\" fill=\"none\"/>\n",
              "    <path d=\"M18.56 5.44l.94 2.06.94-2.06 2.06-.94-2.06-.94-.94-2.06-.94 2.06-2.06.94zm-11 1L8.5 8.5l.94-2.06 2.06-.94-2.06-.94L8.5 2.5l-.94 2.06-2.06.94zm10 10l.94 2.06.94-2.06 2.06-.94-2.06-.94-.94-2.06-.94 2.06-2.06.94z\"/><path d=\"M17.41 7.96l-1.37-1.37c-.4-.4-.92-.59-1.43-.59-.52 0-1.04.2-1.43.59L10.3 9.45l-7.72 7.72c-.78.78-.78 2.05 0 2.83L4 21.41c.39.39.9.59 1.41.59.51 0 1.02-.2 1.41-.59l7.78-7.78 2.81-2.81c.8-.78.8-2.07 0-2.86zM5.41 20L4 18.59l7.72-7.72 1.47 1.35L5.41 20z\"/>\n",
              "  </svg>\n",
              "      </button>\n",
              "      \n",
              "  <style>\n",
              "    .colab-df-container {\n",
              "      display:flex;\n",
              "      flex-wrap:wrap;\n",
              "      gap: 12px;\n",
              "    }\n",
              "\n",
              "    .colab-df-convert {\n",
              "      background-color: #E8F0FE;\n",
              "      border: none;\n",
              "      border-radius: 50%;\n",
              "      cursor: pointer;\n",
              "      display: none;\n",
              "      fill: #1967D2;\n",
              "      height: 32px;\n",
              "      padding: 0 0 0 0;\n",
              "      width: 32px;\n",
              "    }\n",
              "\n",
              "    .colab-df-convert:hover {\n",
              "      background-color: #E2EBFA;\n",
              "      box-shadow: 0px 1px 2px rgba(60, 64, 67, 0.3), 0px 1px 3px 1px rgba(60, 64, 67, 0.15);\n",
              "      fill: #174EA6;\n",
              "    }\n",
              "\n",
              "    [theme=dark] .colab-df-convert {\n",
              "      background-color: #3B4455;\n",
              "      fill: #D2E3FC;\n",
              "    }\n",
              "\n",
              "    [theme=dark] .colab-df-convert:hover {\n",
              "      background-color: #434B5C;\n",
              "      box-shadow: 0px 1px 3px 1px rgba(0, 0, 0, 0.15);\n",
              "      filter: drop-shadow(0px 1px 2px rgba(0, 0, 0, 0.3));\n",
              "      fill: #FFFFFF;\n",
              "    }\n",
              "  </style>\n",
              "\n",
              "      <script>\n",
              "        const buttonEl =\n",
              "          document.querySelector('#df-b3f6d860-14e8-40e3-b8d2-8bac5001aa51 button.colab-df-convert');\n",
              "        buttonEl.style.display =\n",
              "          google.colab.kernel.accessAllowed ? 'block' : 'none';\n",
              "\n",
              "        async function convertToInteractive(key) {\n",
              "          const element = document.querySelector('#df-b3f6d860-14e8-40e3-b8d2-8bac5001aa51');\n",
              "          const dataTable =\n",
              "            await google.colab.kernel.invokeFunction('convertToInteractive',\n",
              "                                                     [key], {});\n",
              "          if (!dataTable) return;\n",
              "\n",
              "          const docLinkHtml = 'Like what you see? Visit the ' +\n",
              "            '<a target=\"_blank\" href=https://colab.research.google.com/notebooks/data_table.ipynb>data table notebook</a>'\n",
              "            + ' to learn more about interactive tables.';\n",
              "          element.innerHTML = '';\n",
              "          dataTable['output_type'] = 'display_data';\n",
              "          await google.colab.output.renderOutput(dataTable, element);\n",
              "          const docLink = document.createElement('div');\n",
              "          docLink.innerHTML = docLinkHtml;\n",
              "          element.appendChild(docLink);\n",
              "        }\n",
              "      </script>\n",
              "    </div>\n",
              "  </div>\n",
              "  "
            ]
          },
          "metadata": {},
          "execution_count": 17
        }
      ],
      "source": [
        "Q"
      ]
    },
    {
      "cell_type": "code",
      "execution_count": 18,
      "metadata": {
        "id": "q1VbNRZUgdTj"
      },
      "outputs": [],
      "source": [
        "Coupon_est = df[['toCoupon_GEQ15min', 'toCoupon_GEQ25min']].to_numpy()\n",
        "t = np.sum(Coupon_est, axis=1)\n",
        "Coupon_est_final = pd.Series(data=np.sum(Coupon_est, axis=1), name='Coupon_est')"
      ]
    },
    {
      "cell_type": "markdown",
      "metadata": {
        "id": "Y4vJKxgLfJdL"
      },
      "source": [
        "##**Concat all encoded subsets**"
      ]
    },
    {
      "cell_type": "code",
      "execution_count": 19,
      "metadata": {
        "id": "rpOy0r9peOmb"
      },
      "outputs": [],
      "source": [
        "Final_df = pd.concat(\n",
        "    [binary_attributes,\n",
        "     Income,\n",
        "     Education,\n",
        "     Age,\n",
        "     Time,\n",
        "     Expiration,\n",
        "     P,\n",
        "     Q,\n",
        "     Coupon_est_final,\n",
        "     df['Y']],\n",
        "     axis=1\n",
        ")"
      ]
    },
    {
      "cell_type": "code",
      "execution_count": 20,
      "metadata": {
        "colab": {
          "base_uri": "https://localhost:8080/"
        },
        "id": "1WIIrNogftk1",
        "outputId": "cdbbf6d0-f86d-4dc7-ecf0-ec83e273c44b"
      },
      "outputs": [
        {
          "output_type": "execute_result",
          "data": {
            "text/plain": [
              "gender                                                    0\n",
              "has_children                                              0\n",
              "direction                                                 0\n",
              "income                                                    0\n",
              "education                                                 0\n",
              "age                                                       0\n",
              "time                                                      0\n",
              "expiration                                                0\n",
              "Bar                                                     605\n",
              "CoffeeHouse                                             605\n",
              "CarryAway                                               605\n",
              "RestaurantLessThan20                                    605\n",
              "Restaurant20To50                                        605\n",
              "destination_Home                                          0\n",
              "destination_No Urgent Place                               0\n",
              "destination_Work                                          0\n",
              "passanger_Alone                                           0\n",
              "passanger_Friend(s)                                       0\n",
              "passanger_Kid(s)                                          0\n",
              "passanger_Partner                                         0\n",
              "weather_Rainy                                             0\n",
              "weather_Snowy                                             0\n",
              "weather_Sunny                                             0\n",
              "coupon_Bar                                                0\n",
              "coupon_Carry out & Take away                              0\n",
              "coupon_Coffee House                                       0\n",
              "coupon_Restaurant(20-50)                                  0\n",
              "coupon_Restaurant(<20)                                    0\n",
              "maritalStatus_Divorced                                    0\n",
              "maritalStatus_Married partner                             0\n",
              "maritalStatus_Single                                      0\n",
              "maritalStatus_Unmarried partner                           0\n",
              "maritalStatus_Widowed                                     0\n",
              "occupation_Architecture & Engineering                     0\n",
              "occupation_Arts Design Entertainment Sports & Media       0\n",
              "occupation_Building & Grounds Cleaning & Maintenance      0\n",
              "occupation_Business & Financial                           0\n",
              "occupation_Community & Social Services                    0\n",
              "occupation_Computer & Mathematical                        0\n",
              "occupation_Construction & Extraction                      0\n",
              "occupation_Education&Training&Library                     0\n",
              "occupation_Farming Fishing & Forestry                     0\n",
              "occupation_Food Preparation & Serving Related             0\n",
              "occupation_Healthcare Practitioners & Technical           0\n",
              "occupation_Healthcare Support                             0\n",
              "occupation_Installation Maintenance & Repair              0\n",
              "occupation_Legal                                          0\n",
              "occupation_Life Physical Social Science                   0\n",
              "occupation_Management                                     0\n",
              "occupation_Office & Administrative Support                0\n",
              "occupation_Personal Care & Service                        0\n",
              "occupation_Production Occupations                         0\n",
              "occupation_Protective Service                             0\n",
              "occupation_Retired                                        0\n",
              "occupation_Sales & Related                                0\n",
              "occupation_Student                                        0\n",
              "occupation_Transportation & Material Moving               0\n",
              "occupation_Unemployed                                     0\n",
              "Coupon_est                                                0\n",
              "Y                                                         0\n",
              "dtype: int64"
            ]
          },
          "metadata": {},
          "execution_count": 20
        }
      ],
      "source": [
        "Final_df.isnull().sum()"
      ]
    },
    {
      "cell_type": "code",
      "execution_count": 21,
      "metadata": {
        "id": "sXzEslnNiCyX"
      },
      "outputs": [],
      "source": [
        "data_preprocessed = Final_df.dropna()"
      ]
    },
    {
      "cell_type": "code",
      "execution_count": 22,
      "metadata": {
        "colab": {
          "base_uri": "https://localhost:8080/"
        },
        "id": "15HORODGiRnN",
        "outputId": "70251909-8af5-498a-a61c-8e1ba146dd20"
      },
      "outputs": [
        {
          "output_type": "execute_result",
          "data": {
            "text/plain": [
              "1    6877\n",
              "0    5202\n",
              "Name: Y, dtype: int64"
            ]
          },
          "metadata": {},
          "execution_count": 22
        }
      ],
      "source": [
        "data_preprocessed['Y'].value_counts()"
      ]
    },
    {
      "cell_type": "code",
      "execution_count": 23,
      "metadata": {
        "colab": {
          "base_uri": "https://localhost:8080/"
        },
        "id": "B4ceQj3XiS_S",
        "outputId": "d619ad76-e157-4b7a-a0b1-338ec8581299"
      },
      "outputs": [
        {
          "output_type": "execute_result",
          "data": {
            "text/plain": [
              "(12079, 60)"
            ]
          },
          "metadata": {},
          "execution_count": 23
        }
      ],
      "source": [
        "data_preprocessed.shape"
      ]
    },
    {
      "cell_type": "code",
      "execution_count": 24,
      "metadata": {
        "colab": {
          "base_uri": "https://localhost:8080/"
        },
        "id": "3pPsAO52iXTl",
        "outputId": "6fd0c91a-002a-43b8-f1a3-057f49fff6d1"
      },
      "outputs": [
        {
          "output_type": "execute_result",
          "data": {
            "text/plain": [
              "1    6877\n",
              "0    5202\n",
              "Name: Y, dtype: int64"
            ]
          },
          "metadata": {},
          "execution_count": 24
        }
      ],
      "source": [
        "data_preprocessed['Y'].value_counts()"
      ]
    },
    {
      "cell_type": "code",
      "source": [
        "data_preprocessed.to_csv('data-preprocessed.csv')"
      ],
      "metadata": {
        "id": "M0RXG49DVBXt"
      },
      "execution_count": 25,
      "outputs": []
    },
    {
      "cell_type": "markdown",
      "source": [
        ""
      ],
      "metadata": {
        "id": "nWyaIzXaeeqr"
      }
    }
  ],
  "metadata": {
    "accelerator": "GPU",
    "colab": {
      "background_execution": "on",
      "collapsed_sections": [],
      "machine_shape": "hm",
      "name": "data_preprocessing.ipynb",
      "provenance": [],
      "authorship_tag": "ABX9TyP2qsP/93j8bggmXDBgLdOU",
      "include_colab_link": true
    },
    "gpuClass": "standard",
    "kernelspec": {
      "display_name": "Python 3",
      "name": "python3"
    },
    "language_info": {
      "name": "python"
    }
  },
  "nbformat": 4,
  "nbformat_minor": 0
}